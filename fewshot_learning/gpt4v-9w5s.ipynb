{
 "cells": [
  {
   "cell_type": "markdown",
   "metadata": {},
   "source": [
    "# 9 way 5 shot GPT4-V experiment"
   ]
  },
  {
   "cell_type": "markdown",
   "metadata": {},
   "source": [
    "#"
   ]
  },
  {
   "cell_type": "code",
   "execution_count": 1,
   "metadata": {},
   "outputs": [],
   "source": [
    "## \n",
    "import os\n",
    "from openai import OpenAI\n",
    "import random\n",
    "import base64\n",
    "from tqdm import tqdm"
   ]
  },
  {
   "cell_type": "code",
   "execution_count": 31,
   "metadata": {},
   "outputs": [],
   "source": [
    "# OpenAI API Key, removed for submission\n",
    "# api_key = \"\"\n",
    "api_key = \"\""
   ]
  },
  {
   "cell_type": "code",
   "execution_count": 3,
   "metadata": {},
   "outputs": [],
   "source": [
    "# helper functions\n",
    "# Function to encode the image\n",
    "def encode_image(image_path):\n",
    "    with open(image_path, \"rb\") as image_file:\n",
    "        return base64.b64encode(image_file.read()).decode('utf-8')\n",
    "    \n",
    "def parse_response(response):\n",
    "    # TODO: figure out how to output probs\n",
    "    return response.choices[0].message.content"
   ]
  },
  {
   "cell_type": "code",
   "execution_count": 4,
   "metadata": {},
   "outputs": [],
   "source": [
    "def format_predictions(gpt4v_response, categories):\n",
    "    formatted_predictions = {}\n",
    "    # irregular answer in the response, check if they fall into any of the 9 categories\n",
    "    num_irregular = 0\n",
    "    num_not_in_categories = 0\n",
    "    num_more_than_one_categories = 0\n",
    "    not_in_any = list()\n",
    "    for key, value in gpt4v_response.items():\n",
    "        if value['answer'] not in categories:\n",
    "            num_irregular += 1\n",
    "            print(key, value['answer'])\n",
    "            # try to find if it contains an answer from the 9 categories\n",
    "            find = list()\n",
    "            for cat in categories:\n",
    "                cat = cat.lower()\n",
    "                if cat in value['answer'].lower():\n",
    "                    print(\"find\", cat)\n",
    "                    find.append(cat)\n",
    "            if \"spurcewood\" in value['answer'].lower():\n",
    "                print(\"find spurcewood, typo in the categories, should be sprucewood\")\n",
    "                find.append(\"sprucewood\") # typo in the categories\n",
    "                \n",
    "            if len(find) == 0:\n",
    "                num_not_in_categories += 1\n",
    "                print(\"not in categories\")\n",
    "                not_in_any.append((key, value['answer']))\n",
    "                formatted_predictions[key] = \"not sure\"\n",
    "            elif len(find) > 1:\n",
    "                print(\"more than one categories\")\n",
    "                num_more_than_one_categories += 1\n",
    "                formatted_predictions[key] = find[0]\n",
    "            else:\n",
    "                formatted_predictions[key] = find[0] # reformatted answer\n",
    "        else:\n",
    "            formatted_predictions[key] = value['answer']\n",
    "    # print out stats\n",
    "    print(\"num_irregular\", num_irregular)\n",
    "    print(\"num_not_in_categories\", num_not_in_categories)\n",
    "    print(\"num_more_than_one_categories\", num_more_than_one_categories)\n",
    "    # print(\"not_in_any\", not_in_any)\n",
    "    return formatted_predictions, not_in_any"
   ]
  },
  {
   "cell_type": "code",
   "execution_count": 5,
   "metadata": {},
   "outputs": [],
   "source": [
    "categories = ['horsetail', 'bone', 'sprucewood', # typo spurcewood, should be sprucewood, but coexist in the filenames\n",
    "              'fern', 'antler', 'ivory', 'beechwood', \n",
    "              'beforeuse', 'barley']"
   ]
  },
  {
   "cell_type": "code",
   "execution_count": 6,
   "metadata": {},
   "outputs": [
    {
     "name": "stdout",
     "output_type": "stream",
     "text": [
      "An archaeologist conducting lithic use-wear analysis would examine the microscopic wear patterns on the tool's surface to infer its function and the materials it was used on. Typically it involves looking for certain types of wear on the stone tool, such as:\n",
      " * Polishing: Smooth areas that result from the tool being used on a particular material.\n",
      " * Striations: Lines that can indicate the direction of movement during use.\n",
      " * Microflaking: Tiny, often barely visible, chips along the edge of the tool that can show how it was used.\n"
     ]
    }
   ],
   "source": [
    "background_prompt = \"An archaeologist conducting lithic use-wear analysis would examine the microscopic wear patterns on the tool's surface to infer its function and the materials it was used on. Typically it involves looking for certain types of wear on the stone tool, such as:\\n * Polishing: Smooth areas that result from the tool being used on a particular material.\\n * Striations: Lines that can indicate the direction of movement during use.\\n * Microflaking: Tiny, often barely visible, chips along the edge of the tool that can show how it was used.\"\n",
    "print(background_prompt)"
   ]
  },
  {
   "cell_type": "code",
   "execution_count": 7,
   "metadata": {},
   "outputs": [
    {
     "name": "stdout",
     "output_type": "stream",
     "text": [
      "45 45 90\n"
     ]
    }
   ],
   "source": [
    "# pull out the test data:\n",
    "test_dir = \"./LUWA-FSL-GPT4V/Query-with-label-sequence/texture-png/\"\n",
    "test_images_all = os.listdir(test_dir)\n",
    "test_images_x50 = [img for img in test_images_all if \"50x\" in img.lower() or \"x50\" in img.lower()]\n",
    "test_images_x20 = [img for img in test_images_all if \"20x\" in img.lower() or \"x20\" in img.lower()]\n",
    "print(len(test_images_x50), len(test_images_x20), len(test_images_all))"
   ]
  },
  {
   "cell_type": "code",
   "execution_count": 8,
   "metadata": {},
   "outputs": [
    {
     "name": "stdout",
     "output_type": "stream",
     "text": [
      "['TRIBO_001_FLINTC1SL_FERN_9h_50X_003_001.png', 'TRIBO_010_FLINT1_BEECHWOOD_005_5h_X50_012_001.png', 'TRIBO_001_FLINTA2SM_BARLEY_9h_50X_020_001.png', 'TRIBO_001_FLINTC1SL_FERN_9h_20X_012_001.png', 'TRIBO_001_FLINTC1SL_FERN_9h_20X_002_001.png', 'TRIBO_022_FLINT1_ANTLER_5h_20X_046_001.png', 'TRIBO_015_FLINT1_BU_X50-002_001.png', 'TRIBO_001_FLINTB1SH_HORSETAIL_9h_20X_005_001.png', 'TRIBO_015_FLINT_SPRUCEWOOD_5h_50X_032_001.png', 'TRIBO_022_FLINT1_ANTLER_5h_20X_002_001.png', 'TRIBO_001_FLINTA1SM_BARLEY_9h_20X_002_001.png', 'TRIBO_001_FLINTB1SH_HORSETAIL_9h_20X_004_001.png', 'TRIBO_014_FLINT1_IVORY_5h_20X_006_001.png', 'TRIBO_005_FLINT1_BEECHWOOD_002_X50-001_001.png', 'TRIBO_005_FLINT1_BEECHWOOD_002_X20-001_001.png', 'TRIBO_014_FLINT1_IVORY_5h_50X_043_001.png', 'TRIBO_001_FLINTA2SM_BARLEY_9h_20X_020_001.png', 'TRIBO_013_FLINT1_BONE_002_5h_X20_004_001.png', 'TRIBO_001_FLINTC1SL_FERN_9h_50X_002_001.png', 'TRIBO_010_FLINT1_BEECHWOOD_005_5h_X50_003_001.png', 'TRIBO_001_FLINTC1SL_FERN_9h_20X_003_001.png', 'TRIBO_015_FLINT1_SPURCEWOOD_001_1h_X50-001_001.png', 'TRIBO_001_FLINTC1SL_FERN_9h_50X_009_001.png', 'TRIBO_001_FLINTC2SL_FERN_9h_50X_006_001.png', 'TRIBO_015_FLINT1_BU_X20-001_001.png', 'TRIBO_015_FLINT1_BU_X50-001_001.png', 'TRIBO_014_FLINT1_BU_X50-004_001.png', 'TRIBO_001_FLINTA2SM_BARLEY_9h_20X_014_001.png', 'TRIBO_013_FLINT1_BONE_002_3h_X50-005_001.png', 'TRIBO_014_FLINT1_IVORY_X50_001_001.png', 'TRIBO_013_FLINT1_BONE_002_3h_X20-005_001.png', 'TRIBO_001_FLINTB1SH_HORSETAIL_9h_50X_017_001.png', 'TRIBO_015_FLINT1_SPURCEWOOD_001_3h_X20-004_001.png', 'TRIBO_001_FLINTB1SH_HORSETAIL_9h_50X_020_001.png', 'TRIBO_022_FLINT1_ANTLER_5h_20X_009_001.png', 'TRIBO_015_FLINT1_SPURCEWOOD_001_1h_X20-002_001.png', 'TRIBO_001_FLINTC1SL_FERN_9h_20X_010_001.png', 'TRIBO_022_FLINT1_ANTLER_X50_004_001.png', 'TRIBO_014_FLINT1_IVORY_5h_50X_049_001.png', 'TRIBO_014_FLINT1_BU_X50-005_001.png', 'TRIBO_014_FLINT1_BU_X20-005_001.png', 'TRIBO_022_FLINT1_ANTLER_5h_50X_001_001.png', 'TRIBO_001_FLINTB1SH_HORSETAIL_9h_50X_016_001.png', 'TRIBO_013_FLINT1_BONE_002_1h_X50-003_001.png', 'TRIBO_022_FLINT1_ANTLER_5h_50X_004_001.png', 'TRIBO_013_FLINT1_BONE_002_3h_X20-001_001.png', 'TRIBO_014_FLINT1_IVORY_X50_005_001.png', 'TRIBO_013_FLINT1_BONE_002_3h_X50-001_001.png', 'TRIBO_001_FLINTA1SM_BARLEY_9h_20X_015_001.png', 'TRIBO_001_FLINTA2SM_BARLEY_9h_50X_011_001.png', 'TRIBO_015_FLINT_SPRUCEWOOD_5h_50X_025_001.png', 'TRIBO_001_FLINTB1SH_HORSETAIL_9h_20X_002_001.png', 'TRIBO_014_FLINT1_IVORY_5h_20X_009_001.png', 'TRIBO_010_FLINT1_BEECHWOOD_005_5h_X20_015_001.png', 'TRIBO_016_FLINT1_BU_X20-003_001.png', 'TRIBO_010_FLINT1_BEECHWOOD_005_5h_X50_005_001.png', 'TRIBO_013_FLINT1_BONE_002_5h_X50_002_001.png', 'TRIBO_001_FLINTA2SM_BARLEY_9h_50X_008_001.png', 'TRIBO_001_FLINTA2SM_BARLEY_9h_50X_018_001.png', 'TRIBO_022_FLINT1_ANTLER_5h_20X_032_001.png', 'TRIBO_001_FLINTC1SL_FERN_9h_20X_004_001.png', 'TRIBO_014_FLINT1_IVORY_5h_20X_008_001.png', 'TRIBO_001_FLINTA2SM_BARLEY_9h_50X_009_001.png', 'TRIBO_014_FLINT1_IVORY_X50_004_001.png', 'TRIBO_001_FLINTB1SH_HORSETAIL_9h_50X_012_001.png', 'TRIBO_001_FLINTA1SM_BARLEY_9h_20X_004_001.png', 'TRIBO_014_FLINT1_IVORY_5h_20X_011_001.png', 'TRIBO_014_FLINT1_IVORY_5h_20X_001_001.png', 'TRIBO_015_FLINT1_SPURCEWOOD_001_3h_X20-003_001.png', 'TRIBO_013_FLINT1_BONE_002_5h_X20_001_001.png', 'TRIBO_001_FLINTB1SH_HORSETAIL_9h_20X_008_001.png', 'TRIBO_010_FLINT1_BEECHWOOD_005_5h_X20_016_001.png', 'TRIBO_010_FLINT1_BEECHWOOD_005_5h_X20_006_001.png', 'TRIBO_013_FLINT1_BONE_002_1h_X50-005_001.png', 'TRIBO_022_FLINT1_ANTLER_5h_50X_017_001.png', 'TRIBO_014_FLINT1_BU_X20-003_001.png', 'TRIBO_015_FLINT_SPRUCEWOOD_5h_50X_026_001.png', 'TRIBO_022_FLINT1_ANTLER_5h_20X_016_001.png', 'TRIBO_013_FLINT1_BONE_002_5h_X20_044_001.png', 'TRIBO_005_FLINT1_BEECHWOOD_002_X20-005_001.png', 'TRIBO_005_FLINT1_BEECHWOOD_002_X50-005_001.png', 'TRIBO_015_FLINT_SPRUCEWOOD_5h_50X_027_001.png', 'TRIBO_022_FLINT1_ANTLER_X20_003_001.png', 'TRIBO_001_FLINTC2SL_FERN_9h_50X_010_001.png', 'TRIBO_015_FLINT1_SPURCEWOOD_001_1h_X20-005_001.png', 'TRIBO_001_FLINTB1SH_HORSETAIL_9h_50X_018_001.png', 'TRIBO_015_FLINT1_SPURCEWOOD_001_5h_X20-004_001.png', 'TRIBO_016_FLINT1_BU_X50-001_001.png', 'TRIBO_016_FLINT1_BU_X20-001_001.png', 'TRIBO_001_FLINTB1SH_HORSETAIL_9h_20X_009_001.png']\n"
     ]
    }
   ],
   "source": [
    "support_path = './LUWA-FSL-GPT4V/Support/9w10s/texture_png/'\n",
    "example_files = os.listdir(support_path)\n",
    "print(example_files)"
   ]
  },
  {
   "cell_type": "code",
   "execution_count": null,
   "metadata": {},
   "outputs": [],
   "source": [
    "\n"
   ]
  },
  {
   "cell_type": "code",
   "execution_count": 10,
   "metadata": {},
   "outputs": [],
   "source": [
    "# encode example iamges and pair with the categories based on the file name\n",
    "# example_dict_x50 = {}\n",
    "# example_dict_x20 = {}\n",
    "\n",
    "def register_file(file, categories, example_dict, support_path):\n",
    "    filename = file.lower()\n",
    "    for cat in categories:\n",
    "        if cat in filename:\n",
    "            if cat not in example_dict:\n",
    "                example_dict[cat] = [encode_image(support_path + file)]\n",
    "            else:\n",
    "                example_dict[cat].append(encode_image(support_path + file))\n",
    "            print(cat, \"X\", filename)\n",
    "            break\n",
    "    if \"spurcewood\" in filename: # consider the typo\n",
    "        if \"sprucewood\" not in example_dict:\n",
    "            example_dict[\"sprucewood\"] = [encode_image(support_path + file)]\n",
    "        else:\n",
    "            example_dict[\"sprucewood\"].append(encode_image(support_path + file))\n",
    "    # add before use\n",
    "    elif \"bu\" in filename: # consider BU\n",
    "        print(filename)\n",
    "        if \"beforeuse\" not in example_dict:\n",
    "            example_dict[\"beforeuse\"] = [encode_image(support_path + file)]\n",
    "        else:\n",
    "            example_dict[\"beforeuse\"].append(encode_image(support_path + file))\n",
    "\n",
    "# for file in example_files:\n",
    "#     filename = file.lower()\n",
    "#     if \"50x\" in filename or \"x50\" in filename:\n",
    "#         register_file(file, categories, example_dict_x50, support_path)\n",
    "#     elif \"20x\" in filename or \"x20\" in filename:\n",
    "#         register_file(file, categories, example_dict_x20, support_path)\n",
    "#     else:\n",
    "#         print(\"not a valid file\", file)\n",
    "    "
   ]
  },
  {
   "cell_type": "code",
   "execution_count": 11,
   "metadata": {},
   "outputs": [
    {
     "name": "stdout",
     "output_type": "stream",
     "text": [
      "fern X tribo_001_flintc1sl_fern_9h_50x_003_001.png\n",
      "beechwood X tribo_010_flint1_beechwood_005_5h_x50_012_001.png\n",
      "barley X tribo_001_flinta2sm_barley_9h_50x_020_001.png\n",
      "fern X tribo_001_flintc1sl_fern_9h_20x_012_001.png\n",
      "fern X tribo_001_flintc1sl_fern_9h_20x_002_001.png\n",
      "antler X tribo_022_flint1_antler_5h_20x_046_001.png\n",
      "tribo_015_flint1_bu_x50-002_001.png\n",
      "horsetail X tribo_001_flintb1sh_horsetail_9h_20x_005_001.png\n",
      "sprucewood X tribo_015_flint_sprucewood_5h_50x_032_001.png\n",
      "antler X tribo_022_flint1_antler_5h_20x_002_001.png\n",
      "barley X tribo_001_flinta1sm_barley_9h_20x_002_001.png\n",
      "horsetail X tribo_001_flintb1sh_horsetail_9h_20x_004_001.png\n",
      "ivory X tribo_014_flint1_ivory_5h_20x_006_001.png\n",
      "beechwood X tribo_005_flint1_beechwood_002_x50-001_001.png\n",
      "beechwood X tribo_005_flint1_beechwood_002_x20-001_001.png\n",
      "ivory X tribo_014_flint1_ivory_5h_50x_043_001.png\n",
      "barley X tribo_001_flinta2sm_barley_9h_20x_020_001.png\n",
      "bone X tribo_013_flint1_bone_002_5h_x20_004_001.png\n",
      "fern X tribo_001_flintc1sl_fern_9h_50x_002_001.png\n",
      "beechwood X tribo_010_flint1_beechwood_005_5h_x50_003_001.png\n",
      "fern X tribo_001_flintc1sl_fern_9h_20x_003_001.png\n",
      "fern X tribo_001_flintc1sl_fern_9h_50x_009_001.png\n",
      "fern X tribo_001_flintc2sl_fern_9h_50x_006_001.png\n",
      "tribo_015_flint1_bu_x20-001_001.png\n",
      "tribo_015_flint1_bu_x50-001_001.png\n",
      "tribo_014_flint1_bu_x50-004_001.png\n",
      "barley X tribo_001_flinta2sm_barley_9h_20x_014_001.png\n",
      "bone X tribo_013_flint1_bone_002_3h_x50-005_001.png\n",
      "ivory X tribo_014_flint1_ivory_x50_001_001.png\n",
      "bone X tribo_013_flint1_bone_002_3h_x20-005_001.png\n",
      "horsetail X tribo_001_flintb1sh_horsetail_9h_50x_017_001.png\n",
      "horsetail X tribo_001_flintb1sh_horsetail_9h_50x_020_001.png\n",
      "antler X tribo_022_flint1_antler_5h_20x_009_001.png\n",
      "fern X tribo_001_flintc1sl_fern_9h_20x_010_001.png\n",
      "antler X tribo_022_flint1_antler_x50_004_001.png\n",
      "ivory X tribo_014_flint1_ivory_5h_50x_049_001.png\n",
      "tribo_014_flint1_bu_x50-005_001.png\n",
      "tribo_014_flint1_bu_x20-005_001.png\n",
      "antler X tribo_022_flint1_antler_5h_50x_001_001.png\n",
      "horsetail X tribo_001_flintb1sh_horsetail_9h_50x_016_001.png\n",
      "bone X tribo_013_flint1_bone_002_1h_x50-003_001.png\n",
      "antler X tribo_022_flint1_antler_5h_50x_004_001.png\n",
      "bone X tribo_013_flint1_bone_002_3h_x20-001_001.png\n",
      "ivory X tribo_014_flint1_ivory_x50_005_001.png\n",
      "bone X tribo_013_flint1_bone_002_3h_x50-001_001.png\n",
      "barley X tribo_001_flinta1sm_barley_9h_20x_015_001.png\n",
      "barley X tribo_001_flinta2sm_barley_9h_50x_011_001.png\n",
      "sprucewood X tribo_015_flint_sprucewood_5h_50x_025_001.png\n",
      "horsetail X tribo_001_flintb1sh_horsetail_9h_20x_002_001.png\n",
      "ivory X tribo_014_flint1_ivory_5h_20x_009_001.png\n",
      "beechwood X tribo_010_flint1_beechwood_005_5h_x20_015_001.png\n",
      "tribo_016_flint1_bu_x20-003_001.png\n",
      "beechwood X tribo_010_flint1_beechwood_005_5h_x50_005_001.png\n",
      "bone X tribo_013_flint1_bone_002_5h_x50_002_001.png\n",
      "barley X tribo_001_flinta2sm_barley_9h_50x_008_001.png\n",
      "barley X tribo_001_flinta2sm_barley_9h_50x_018_001.png\n",
      "antler X tribo_022_flint1_antler_5h_20x_032_001.png\n",
      "fern X tribo_001_flintc1sl_fern_9h_20x_004_001.png\n",
      "ivory X tribo_014_flint1_ivory_5h_20x_008_001.png\n",
      "barley X tribo_001_flinta2sm_barley_9h_50x_009_001.png\n",
      "ivory X tribo_014_flint1_ivory_x50_004_001.png\n",
      "horsetail X tribo_001_flintb1sh_horsetail_9h_50x_012_001.png\n",
      "barley X tribo_001_flinta1sm_barley_9h_20x_004_001.png\n",
      "ivory X tribo_014_flint1_ivory_5h_20x_011_001.png\n",
      "ivory X tribo_014_flint1_ivory_5h_20x_001_001.png\n",
      "bone X tribo_013_flint1_bone_002_5h_x20_001_001.png\n",
      "horsetail X tribo_001_flintb1sh_horsetail_9h_20x_008_001.png\n",
      "beechwood X tribo_010_flint1_beechwood_005_5h_x20_016_001.png\n",
      "beechwood X tribo_010_flint1_beechwood_005_5h_x20_006_001.png\n",
      "bone X tribo_013_flint1_bone_002_1h_x50-005_001.png\n",
      "antler X tribo_022_flint1_antler_5h_50x_017_001.png\n",
      "tribo_014_flint1_bu_x20-003_001.png\n",
      "sprucewood X tribo_015_flint_sprucewood_5h_50x_026_001.png\n",
      "antler X tribo_022_flint1_antler_5h_20x_016_001.png\n",
      "bone X tribo_013_flint1_bone_002_5h_x20_044_001.png\n",
      "beechwood X tribo_005_flint1_beechwood_002_x20-005_001.png\n",
      "beechwood X tribo_005_flint1_beechwood_002_x50-005_001.png\n",
      "sprucewood X tribo_015_flint_sprucewood_5h_50x_027_001.png\n",
      "antler X tribo_022_flint1_antler_x20_003_001.png\n",
      "fern X tribo_001_flintc2sl_fern_9h_50x_010_001.png\n",
      "horsetail X tribo_001_flintb1sh_horsetail_9h_50x_018_001.png\n",
      "tribo_016_flint1_bu_x50-001_001.png\n",
      "tribo_016_flint1_bu_x20-001_001.png\n",
      "horsetail X tribo_001_flintb1sh_horsetail_9h_20x_009_001.png\n"
     ]
    }
   ],
   "source": [
    "example_dict = {}\n",
    "for file in example_files:\n",
    "    filename = file.lower()\n",
    "    register_file(file, categories, example_dict, support_path)"
   ]
  },
  {
   "cell_type": "code",
   "execution_count": 12,
   "metadata": {},
   "outputs": [
    {
     "name": "stdout",
     "output_type": "stream",
     "text": [
      "9\n",
      "fern 10\n",
      "beechwood 10\n",
      "barley 10\n",
      "antler 10\n",
      "beforeuse 10\n",
      "horsetail 10\n",
      "sprucewood 10\n",
      "ivory 10\n",
      "bone 10\n"
     ]
    }
   ],
   "source": [
    "# print(len(example_dict_x50), len(example_dict_x20))\n",
    "# for k in example_dict_x50:\n",
    "#     print(k, len(example_dict_x50[k])) \n",
    "# for k in example_dict_x20:\n",
    "#     print(k, len(example_dict_x20[k]))\n",
    "print(len(example_dict))\n",
    "for k in example_dict:\n",
    "    print(k, len(example_dict[k]))"
   ]
  },
  {
   "cell_type": "code",
   "execution_count": 13,
   "metadata": {},
   "outputs": [],
   "source": [
    "random.seed(42)"
   ]
  },
  {
   "cell_type": "code",
   "execution_count": 14,
   "metadata": {},
   "outputs": [],
   "source": [
    "def make_base_prompt_fewshot(categories, background_prompt, example_dict, num_shots=5, shuffle_show=False, shuffle_example=False):\n",
    "    task_prompt = \"Now there are a few demonstration images from exactly nine use-types:\" + str(categories)\n",
    "    base_request_content = [\n",
    "        {\n",
    "            \"type\": \"text\",\n",
    "            \"text\": background_prompt + \"\\n\\n\" + task_prompt\n",
    "        }\n",
    "    ]\n",
    "    demonstration_pairs = list()\n",
    "    # make example dictionary into a list of pairs (cat, img)\n",
    "    # adding beforeuse as the beginning.\n",
    "    # demonstration_pairs.append((\"beforeuse\", example_dict[\"beforeuse\"][0]))\n",
    "    for cat in categories: # category + beforeuse\n",
    "        if shuffle_example:\n",
    "            for cat_img in random.sample(example_dict[cat], num_shots):\n",
    "                demonstration_pairs.append((cat, cat_img))\n",
    "        else:\n",
    "            for cat_img in example_dict[cat][:num_shots]:\n",
    "                demonstration_pairs.append((cat, cat_img))\n",
    "    # # adding beforeuse as the end.\n",
    "    # demonstration_pairs.append((\"beforeuse\", example_dict[\"beforeuse\"][0]))\n",
    "    # shuffle the list\n",
    "    if shuffle_show:\n",
    "        random.shuffle(demonstration_pairs)\n",
    "    for (cat, cat_img) in demonstration_pairs:\n",
    "        if cat == \"beforeuse\":\n",
    "            prompt = \"This is an image taken with advanced microscopes showing no trace of use on any meterial, so the use-type is {}.\\n\".format(cat)\n",
    "        else:\n",
    "            prompt = \"This is an image taken with advanced microscopes containing traces created by meterial {}, so the use-type is {}.\\n\".format(cat, cat)\n",
    "        print(prompt)\n",
    "        base_request_content.append(\n",
    "            {\n",
    "            \"type\": \"image_url\",\n",
    "            \"image_url\": {\n",
    "                \"url\": f\"data:image/jpeg;base64,{cat_img}\"\n",
    "                }\n",
    "            }\n",
    "        )\n",
    "        base_request_content.append(\n",
    "            {\n",
    "            \"type\": \"text\",\n",
    "            \"text\": prompt\n",
    "            }\n",
    "        )\n",
    "    return base_request_content"
   ]
  },
  {
   "cell_type": "markdown",
   "metadata": {},
   "source": [
    "## whole set experiments"
   ]
  },
  {
   "cell_type": "code",
   "execution_count": 15,
   "metadata": {},
   "outputs": [
    {
     "name": "stdout",
     "output_type": "stream",
     "text": [
      "This is an image taken with advanced microscopes containing traces created by meterial bone, so the use-type is bone.\n",
      "\n",
      "This is an image taken with advanced microscopes containing traces created by meterial sprucewood, so the use-type is sprucewood.\n",
      "\n",
      "This is an image taken with advanced microscopes containing traces created by meterial barley, so the use-type is barley.\n",
      "\n",
      "This is an image taken with advanced microscopes containing traces created by meterial horsetail, so the use-type is horsetail.\n",
      "\n",
      "This is an image taken with advanced microscopes containing traces created by meterial horsetail, so the use-type is horsetail.\n",
      "\n",
      "This is an image taken with advanced microscopes containing traces created by meterial sprucewood, so the use-type is sprucewood.\n",
      "\n",
      "This is an image taken with advanced microscopes containing traces created by meterial fern, so the use-type is fern.\n",
      "\n",
      "This is an image taken with advanced microscopes containing traces created by meterial ivory, so the use-type is ivory.\n",
      "\n",
      "This is an image taken with advanced microscopes containing traces created by meterial barley, so the use-type is barley.\n",
      "\n",
      "This is an image taken with advanced microscopes containing traces created by meterial beechwood, so the use-type is beechwood.\n",
      "\n",
      "This is an image taken with advanced microscopes containing traces created by meterial ivory, so the use-type is ivory.\n",
      "\n",
      "This is an image taken with advanced microscopes containing traces created by meterial fern, so the use-type is fern.\n",
      "\n",
      "This is an image taken with advanced microscopes containing traces created by meterial ivory, so the use-type is ivory.\n",
      "\n",
      "This is an image taken with advanced microscopes containing traces created by meterial fern, so the use-type is fern.\n",
      "\n",
      "This is an image taken with advanced microscopes containing traces created by meterial fern, so the use-type is fern.\n",
      "\n",
      "This is an image taken with advanced microscopes containing traces created by meterial antler, so the use-type is antler.\n",
      "\n",
      "This is an image taken with advanced microscopes containing traces created by meterial barley, so the use-type is barley.\n",
      "\n",
      "This is an image taken with advanced microscopes containing traces created by meterial ivory, so the use-type is ivory.\n",
      "\n",
      "This is an image taken with advanced microscopes containing traces created by meterial bone, so the use-type is bone.\n",
      "\n",
      "This is an image taken with advanced microscopes showing no trace of use on any meterial, so the use-type is beforeuse.\n",
      "\n",
      "This is an image taken with advanced microscopes containing traces created by meterial antler, so the use-type is antler.\n",
      "\n",
      "This is an image taken with advanced microscopes containing traces created by meterial beechwood, so the use-type is beechwood.\n",
      "\n",
      "This is an image taken with advanced microscopes containing traces created by meterial sprucewood, so the use-type is sprucewood.\n",
      "\n",
      "This is an image taken with advanced microscopes containing traces created by meterial antler, so the use-type is antler.\n",
      "\n",
      "This is an image taken with advanced microscopes containing traces created by meterial beechwood, so the use-type is beechwood.\n",
      "\n",
      "This is an image taken with advanced microscopes containing traces created by meterial bone, so the use-type is bone.\n",
      "\n",
      "This is an image taken with advanced microscopes showing no trace of use on any meterial, so the use-type is beforeuse.\n",
      "\n",
      "This is an image taken with advanced microscopes containing traces created by meterial horsetail, so the use-type is horsetail.\n",
      "\n",
      "This is an image taken with advanced microscopes containing traces created by meterial beechwood, so the use-type is beechwood.\n",
      "\n",
      "This is an image taken with advanced microscopes containing traces created by meterial barley, so the use-type is barley.\n",
      "\n",
      "This is an image taken with advanced microscopes containing traces created by meterial ivory, so the use-type is ivory.\n",
      "\n",
      "This is an image taken with advanced microscopes containing traces created by meterial barley, so the use-type is barley.\n",
      "\n",
      "This is an image taken with advanced microscopes showing no trace of use on any meterial, so the use-type is beforeuse.\n",
      "\n",
      "This is an image taken with advanced microscopes containing traces created by meterial sprucewood, so the use-type is sprucewood.\n",
      "\n",
      "This is an image taken with advanced microscopes containing traces created by meterial horsetail, so the use-type is horsetail.\n",
      "\n",
      "This is an image taken with advanced microscopes containing traces created by meterial horsetail, so the use-type is horsetail.\n",
      "\n",
      "This is an image taken with advanced microscopes containing traces created by meterial sprucewood, so the use-type is sprucewood.\n",
      "\n",
      "This is an image taken with advanced microscopes showing no trace of use on any meterial, so the use-type is beforeuse.\n",
      "\n",
      "This is an image taken with advanced microscopes containing traces created by meterial antler, so the use-type is antler.\n",
      "\n",
      "This is an image taken with advanced microscopes containing traces created by meterial fern, so the use-type is fern.\n",
      "\n",
      "This is an image taken with advanced microscopes showing no trace of use on any meterial, so the use-type is beforeuse.\n",
      "\n",
      "This is an image taken with advanced microscopes containing traces created by meterial bone, so the use-type is bone.\n",
      "\n",
      "This is an image taken with advanced microscopes containing traces created by meterial antler, so the use-type is antler.\n",
      "\n",
      "This is an image taken with advanced microscopes containing traces created by meterial bone, so the use-type is bone.\n",
      "\n",
      "This is an image taken with advanced microscopes containing traces created by meterial beechwood, so the use-type is beechwood.\n",
      "\n"
     ]
    }
   ],
   "source": [
    "base_request_content = make_base_prompt_fewshot(categories, background_prompt, example_dict, num_shots=5, shuffle_show=True, shuffle_example=True)"
   ]
  },
  {
   "cell_type": "code",
   "execution_count": 17,
   "metadata": {},
   "outputs": [
    {
     "name": "stdout",
     "output_type": "stream",
     "text": [
      "91\n"
     ]
    }
   ],
   "source": [
    "print(len(base_request_content))"
   ]
  },
  {
   "cell_type": "code",
   "execution_count": 16,
   "metadata": {},
   "outputs": [],
   "source": [
    "instruction = \"This is another image, do the traces on this image belong to which of the nine use-types as demonstrated above? Answer in exactly one word: \""
   ]
  },
  {
   "cell_type": "code",
   "execution_count": 19,
   "metadata": {},
   "outputs": [
    {
     "name": "stderr",
     "output_type": "stream",
     "text": [
      "100%|██████████| 90/90 [52:26<00:00, 34.96s/it] \n"
     ]
    }
   ],
   "source": [
    "gpt4v_response = {}\n",
    "for test_image in tqdm(test_images_all):\n",
    "    # encode the query image\n",
    "    test_image_encoded = encode_image(test_dir + test_image)\n",
    "    # test prompt\n",
    "    test_image_prompt = {\n",
    "        \"type\": \"image_url\",\n",
    "        \"image_url\": {\n",
    "            \"url\": f\"data:image/jpeg;base64,{test_image_encoded}\"\n",
    "            }\n",
    "    }\n",
    "    test_image_instruction = {\n",
    "        \"type\": \"text\",\n",
    "        \"text\": instruction\n",
    "    }\n",
    "    request_content = base_request_content + [test_image_prompt, test_image_instruction]\n",
    "    # make request\n",
    "    client = OpenAI(api_key=api_key)\n",
    "    response = client.chat.completions.create(\n",
    "        model=\"gpt-4-vision-preview\",\n",
    "        messages=[\n",
    "            {\n",
    "                \"role\": \"user\",\n",
    "                \"content\": request_content\n",
    "            }\n",
    "        ],\n",
    "        max_tokens=300,\n",
    "        temperature=0.0,\n",
    "    )\n",
    "    # parse response\n",
    "    gpt4v_response[test_image] = {\n",
    "        'response': response,\n",
    "        'answer': parse_response(response)\n",
    "    }"
   ]
  },
  {
   "cell_type": "code",
   "execution_count": 20,
   "metadata": {},
   "outputs": [
    {
     "name": "stdout",
     "output_type": "stream",
     "text": [
      "TRIBO_012_FLINT_SPRUCEWOOD_5h_20X_010_001.png The traces in this image belong to the use-type \"antler.\"\n",
      "find antler\n",
      "TRIBO_023_FLINT1_BU_X20-003_001.png The traces in this image do not belong to any of the nine use-types demonstrated above.\n",
      "not in categories\n",
      "num_irregular 2\n",
      "num_not_in_categories 1\n",
      "num_more_than_one_categories 0\n"
     ]
    }
   ],
   "source": [
    "formatted, not_in_any = format_predictions(gpt4v_response, categories)"
   ]
  },
  {
   "cell_type": "code",
   "execution_count": 21,
   "metadata": {},
   "outputs": [],
   "source": [
    "# save the answer as a readable json file\n",
    "import json\n",
    "with open('gpt4v_predictions_label_sequence_9w5s_20+50_tex_shuffle.json', 'w') as fp:\n",
    "    json.dump(formatted, fp)"
   ]
  },
  {
   "cell_type": "markdown",
   "metadata": {},
   "source": [
    "## whole experiment heightmap"
   ]
  },
  {
   "cell_type": "code",
   "execution_count": 22,
   "metadata": {},
   "outputs": [],
   "source": [
    "additional_prompt = \"They also use heightmap to help them understand the traces on the stone tools. The heightmap indicates the height of the surface of the stone tool with colors to better reflect the details of the surface and help identify the traces.\""
   ]
  },
  {
   "cell_type": "code",
   "execution_count": 23,
   "metadata": {},
   "outputs": [
    {
     "name": "stdout",
     "output_type": "stream",
     "text": [
      "An archaeologist conducting lithic use-wear analysis would examine the microscopic wear patterns on the tool's surface to infer its function and the materials it was used on. Typically it involves looking for certain types of wear on the stone tool, such as:\n",
      " * Polishing: Smooth areas that result from the tool being used on a particular material.\n",
      " * Striations: Lines that can indicate the direction of movement during use.\n",
      " * Microflaking: Tiny, often barely visible, chips along the edge of the tool that can show how it was used.\n",
      "They also use heightmap to help them understand the traces on the stone tools. The heightmap indicates the height of the surface of the stone tool with colors to better reflect the details of the surface and help identify the traces.\n"
     ]
    }
   ],
   "source": [
    "background_prompt = background_prompt + \"\\n\"+ additional_prompt\n",
    "print(background_prompt)"
   ]
  },
  {
   "cell_type": "code",
   "execution_count": 24,
   "metadata": {},
   "outputs": [
    {
     "name": "stdout",
     "output_type": "stream",
     "text": [
      "90\n"
     ]
    }
   ],
   "source": [
    "# pull out the test data:\n",
    "test_dir = \"./LUWA-FSL-GPT4V/Query-with-label-sequence/heightmap_png/\"\n",
    "test_images_all = os.listdir(test_dir)\n",
    "# test_images_x50 = [img for img in test_images_all if \"50x\" in img.lower() or \"x50\" in img.lower()]\n",
    "# test_images_x20 = [img for img in test_images_all if \"20x\" in img.lower() or \"x20\" in img.lower()]\n",
    "# print(len(test_images_x50), len(test_images_x20), len(test_images_all))\n",
    "print(len(test_images_all))"
   ]
  },
  {
   "cell_type": "code",
   "execution_count": 25,
   "metadata": {},
   "outputs": [
    {
     "name": "stdout",
     "output_type": "stream",
     "text": [
      "['TRIBO_001_FLINTC1SL_FERN_9h_50X_003_001.png', 'TRIBO_010_FLINT1_BEECHWOOD_005_5h_X50_012_001.png', 'TRIBO_001_FLINTA2SM_BARLEY_9h_50X_020_001.png', 'TRIBO_001_FLINTC1SL_FERN_9h_20X_012_001.png', 'TRIBO_001_FLINTC1SL_FERN_9h_20X_002_001.png', 'TRIBO_022_FLINT1_ANTLER_5h_20X_046_001.png', 'TRIBO_015_FLINT1_BU_X50-002_001.png', 'TRIBO_001_FLINTB1SH_HORSETAIL_9h_20X_005_001.png', 'TRIBO_015_FLINT_SPRUCEWOOD_5h_50X_032_001.png', 'TRIBO_022_FLINT1_ANTLER_5h_20X_002_001.png', 'TRIBO_001_FLINTA1SM_BARLEY_9h_20X_002_001.png', 'TRIBO_001_FLINTB1SH_HORSETAIL_9h_20X_004_001.png', 'TRIBO_014_FLINT1_IVORY_5h_20X_006_001.png', 'TRIBO_005_FLINT1_BEECHWOOD_002_X50-001_001.png', 'TRIBO_005_FLINT1_BEECHWOOD_002_X20-001_001.png', 'TRIBO_014_FLINT1_IVORY_5h_50X_043_001.png', 'TRIBO_001_FLINTA2SM_BARLEY_9h_20X_020_001.png', 'TRIBO_013_FLINT1_BONE_002_5h_X20_004_001.png', 'TRIBO_001_FLINTC1SL_FERN_9h_50X_002_001.png', 'TRIBO_010_FLINT1_BEECHWOOD_005_5h_X50_003_001.png', 'TRIBO_001_FLINTC1SL_FERN_9h_20X_003_001.png', 'TRIBO_015_FLINT1_SPURCEWOOD_001_1h_X50-001_001.png', 'TRIBO_001_FLINTC1SL_FERN_9h_50X_009_001.png', 'TRIBO_001_FLINTC2SL_FERN_9h_50X_006_001.png', 'TRIBO_015_FLINT1_BU_X20-001_001.png', 'TRIBO_015_FLINT1_BU_X50-001_001.png', 'TRIBO_014_FLINT1_BU_X50-004_001.png', 'TRIBO_001_FLINTA2SM_BARLEY_9h_20X_014_001.png', 'TRIBO_013_FLINT1_BONE_002_3h_X50-005_001.png', 'TRIBO_014_FLINT1_IVORY_X50_001_001.png', 'TRIBO_013_FLINT1_BONE_002_3h_X20-005_001.png', 'TRIBO_001_FLINTB1SH_HORSETAIL_9h_50X_017_001.png', 'TRIBO_015_FLINT1_SPURCEWOOD_001_3h_X20-004_001.png', 'TRIBO_001_FLINTB1SH_HORSETAIL_9h_50X_020_001.png', 'TRIBO_022_FLINT1_ANTLER_5h_20X_009_001.png', 'TRIBO_015_FLINT1_SPURCEWOOD_001_1h_X20-002_001.png', 'TRIBO_001_FLINTC1SL_FERN_9h_20X_010_001.png', 'TRIBO_022_FLINT1_ANTLER_X50_004_001.png', 'TRIBO_014_FLINT1_IVORY_5h_50X_049_001.png', 'TRIBO_014_FLINT1_BU_X50-005_001.png', 'TRIBO_014_FLINT1_BU_X20-005_001.png', 'TRIBO_022_FLINT1_ANTLER_5h_50X_001_001.png', 'TRIBO_001_FLINTB1SH_HORSETAIL_9h_50X_016_001.png', 'TRIBO_013_FLINT1_BONE_002_1h_X50-003_001.png', 'TRIBO_022_FLINT1_ANTLER_5h_50X_004_001.png', 'TRIBO_013_FLINT1_BONE_002_3h_X20-001_001.png', 'TRIBO_014_FLINT1_IVORY_X50_005_001.png', 'TRIBO_013_FLINT1_BONE_002_3h_X50-001_001.png', 'TRIBO_001_FLINTA1SM_BARLEY_9h_20X_015_001.png', 'TRIBO_001_FLINTA2SM_BARLEY_9h_50X_011_001.png', 'TRIBO_015_FLINT_SPRUCEWOOD_5h_50X_025_001.png', 'TRIBO_001_FLINTB1SH_HORSETAIL_9h_20X_002_001.png', 'TRIBO_014_FLINT1_IVORY_5h_20X_009_001.png', 'TRIBO_010_FLINT1_BEECHWOOD_005_5h_X20_015_001.png', 'TRIBO_016_FLINT1_BU_X20-003_001.png', 'TRIBO_010_FLINT1_BEECHWOOD_005_5h_X50_005_001.png', 'TRIBO_013_FLINT1_BONE_002_5h_X50_002_001.png', 'TRIBO_001_FLINTA2SM_BARLEY_9h_50X_008_001.png', 'TRIBO_001_FLINTA2SM_BARLEY_9h_50X_018_001.png', 'TRIBO_022_FLINT1_ANTLER_5h_20X_032_001.png', 'TRIBO_001_FLINTC1SL_FERN_9h_20X_004_001.png', 'TRIBO_014_FLINT1_IVORY_5h_20X_008_001.png', 'TRIBO_001_FLINTA2SM_BARLEY_9h_50X_009_001.png', 'TRIBO_014_FLINT1_IVORY_X50_004_001.png', 'TRIBO_001_FLINTB1SH_HORSETAIL_9h_50X_012_001.png', 'TRIBO_001_FLINTA1SM_BARLEY_9h_20X_004_001.png', 'TRIBO_014_FLINT1_IVORY_5h_20X_011_001.png', 'TRIBO_014_FLINT1_IVORY_5h_20X_001_001.png', 'TRIBO_015_FLINT1_SPURCEWOOD_001_3h_X20-003_001.png', 'TRIBO_013_FLINT1_BONE_002_5h_X20_001_001.png', 'TRIBO_001_FLINTB1SH_HORSETAIL_9h_20X_008_001.png', 'TRIBO_010_FLINT1_BEECHWOOD_005_5h_X20_016_001.png', 'TRIBO_010_FLINT1_BEECHWOOD_005_5h_X20_006_001.png', 'TRIBO_013_FLINT1_BONE_002_1h_X50-005_001.png', 'TRIBO_022_FLINT1_ANTLER_5h_50X_017_001.png', 'TRIBO_014_FLINT1_BU_X20-003_001.png', 'TRIBO_015_FLINT_SPRUCEWOOD_5h_50X_026_001.png', 'TRIBO_022_FLINT1_ANTLER_5h_20X_016_001.png', 'TRIBO_013_FLINT1_BONE_002_5h_X20_044_001.png', 'TRIBO_005_FLINT1_BEECHWOOD_002_X20-005_001.png', 'TRIBO_005_FLINT1_BEECHWOOD_002_X50-005_001.png', 'TRIBO_015_FLINT_SPRUCEWOOD_5h_50X_027_001.png', 'TRIBO_022_FLINT1_ANTLER_X20_003_001.png', 'TRIBO_001_FLINTC2SL_FERN_9h_50X_010_001.png', 'TRIBO_015_FLINT1_SPURCEWOOD_001_1h_X20-005_001.png', 'TRIBO_001_FLINTB1SH_HORSETAIL_9h_50X_018_001.png', 'TRIBO_015_FLINT1_SPURCEWOOD_001_5h_X20-004_001.png', 'TRIBO_016_FLINT1_BU_X50-001_001.png', 'TRIBO_016_FLINT1_BU_X20-001_001.png', 'TRIBO_001_FLINTB1SH_HORSETAIL_9h_20X_009_001.png']\n"
     ]
    }
   ],
   "source": [
    "support_path = './LUWA-FSL-GPT4V/Support/9w10s/heightmap_png/'\n",
    "example_files = os.listdir(support_path)\n",
    "print(example_files)"
   ]
  },
  {
   "cell_type": "code",
   "execution_count": 26,
   "metadata": {},
   "outputs": [
    {
     "name": "stdout",
     "output_type": "stream",
     "text": [
      "fern X tribo_001_flintc1sl_fern_9h_50x_003_001.png\n",
      "beechwood X tribo_010_flint1_beechwood_005_5h_x50_012_001.png\n",
      "barley X tribo_001_flinta2sm_barley_9h_50x_020_001.png\n",
      "fern X tribo_001_flintc1sl_fern_9h_20x_012_001.png\n",
      "fern X tribo_001_flintc1sl_fern_9h_20x_002_001.png\n",
      "antler X tribo_022_flint1_antler_5h_20x_046_001.png\n",
      "tribo_015_flint1_bu_x50-002_001.png\n",
      "horsetail X tribo_001_flintb1sh_horsetail_9h_20x_005_001.png\n",
      "sprucewood X tribo_015_flint_sprucewood_5h_50x_032_001.png\n",
      "antler X tribo_022_flint1_antler_5h_20x_002_001.png\n",
      "barley X tribo_001_flinta1sm_barley_9h_20x_002_001.png\n",
      "horsetail X tribo_001_flintb1sh_horsetail_9h_20x_004_001.png\n",
      "ivory X tribo_014_flint1_ivory_5h_20x_006_001.png\n",
      "beechwood X tribo_005_flint1_beechwood_002_x50-001_001.png\n",
      "beechwood X tribo_005_flint1_beechwood_002_x20-001_001.png\n",
      "ivory X tribo_014_flint1_ivory_5h_50x_043_001.png\n",
      "barley X tribo_001_flinta2sm_barley_9h_20x_020_001.png\n",
      "bone X tribo_013_flint1_bone_002_5h_x20_004_001.png\n",
      "fern X tribo_001_flintc1sl_fern_9h_50x_002_001.png\n",
      "beechwood X tribo_010_flint1_beechwood_005_5h_x50_003_001.png\n",
      "fern X tribo_001_flintc1sl_fern_9h_20x_003_001.png\n",
      "fern X tribo_001_flintc1sl_fern_9h_50x_009_001.png\n",
      "fern X tribo_001_flintc2sl_fern_9h_50x_006_001.png\n",
      "tribo_015_flint1_bu_x20-001_001.png\n",
      "tribo_015_flint1_bu_x50-001_001.png\n",
      "tribo_014_flint1_bu_x50-004_001.png\n",
      "barley X tribo_001_flinta2sm_barley_9h_20x_014_001.png\n",
      "bone X tribo_013_flint1_bone_002_3h_x50-005_001.png\n",
      "ivory X tribo_014_flint1_ivory_x50_001_001.png\n",
      "bone X tribo_013_flint1_bone_002_3h_x20-005_001.png\n",
      "horsetail X tribo_001_flintb1sh_horsetail_9h_50x_017_001.png\n",
      "horsetail X tribo_001_flintb1sh_horsetail_9h_50x_020_001.png\n",
      "antler X tribo_022_flint1_antler_5h_20x_009_001.png\n",
      "fern X tribo_001_flintc1sl_fern_9h_20x_010_001.png\n",
      "antler X tribo_022_flint1_antler_x50_004_001.png\n",
      "ivory X tribo_014_flint1_ivory_5h_50x_049_001.png\n",
      "tribo_014_flint1_bu_x50-005_001.png\n",
      "tribo_014_flint1_bu_x20-005_001.png\n",
      "antler X tribo_022_flint1_antler_5h_50x_001_001.png\n",
      "horsetail X tribo_001_flintb1sh_horsetail_9h_50x_016_001.png\n",
      "bone X tribo_013_flint1_bone_002_1h_x50-003_001.png\n",
      "antler X tribo_022_flint1_antler_5h_50x_004_001.png\n",
      "bone X tribo_013_flint1_bone_002_3h_x20-001_001.png\n",
      "ivory X tribo_014_flint1_ivory_x50_005_001.png\n",
      "bone X tribo_013_flint1_bone_002_3h_x50-001_001.png\n",
      "barley X tribo_001_flinta1sm_barley_9h_20x_015_001.png\n",
      "barley X tribo_001_flinta2sm_barley_9h_50x_011_001.png\n",
      "sprucewood X tribo_015_flint_sprucewood_5h_50x_025_001.png\n",
      "horsetail X tribo_001_flintb1sh_horsetail_9h_20x_002_001.png\n",
      "ivory X tribo_014_flint1_ivory_5h_20x_009_001.png\n",
      "beechwood X tribo_010_flint1_beechwood_005_5h_x20_015_001.png\n",
      "tribo_016_flint1_bu_x20-003_001.png\n",
      "beechwood X tribo_010_flint1_beechwood_005_5h_x50_005_001.png\n",
      "bone X tribo_013_flint1_bone_002_5h_x50_002_001.png\n",
      "barley X tribo_001_flinta2sm_barley_9h_50x_008_001.png\n",
      "barley X tribo_001_flinta2sm_barley_9h_50x_018_001.png\n",
      "antler X tribo_022_flint1_antler_5h_20x_032_001.png\n",
      "fern X tribo_001_flintc1sl_fern_9h_20x_004_001.png\n",
      "ivory X tribo_014_flint1_ivory_5h_20x_008_001.png\n",
      "barley X tribo_001_flinta2sm_barley_9h_50x_009_001.png\n",
      "ivory X tribo_014_flint1_ivory_x50_004_001.png\n",
      "horsetail X tribo_001_flintb1sh_horsetail_9h_50x_012_001.png\n",
      "barley X tribo_001_flinta1sm_barley_9h_20x_004_001.png\n",
      "ivory X tribo_014_flint1_ivory_5h_20x_011_001.png\n",
      "ivory X tribo_014_flint1_ivory_5h_20x_001_001.png\n",
      "bone X tribo_013_flint1_bone_002_5h_x20_001_001.png\n",
      "horsetail X tribo_001_flintb1sh_horsetail_9h_20x_008_001.png\n",
      "beechwood X tribo_010_flint1_beechwood_005_5h_x20_016_001.png\n",
      "beechwood X tribo_010_flint1_beechwood_005_5h_x20_006_001.png\n",
      "bone X tribo_013_flint1_bone_002_1h_x50-005_001.png\n",
      "antler X tribo_022_flint1_antler_5h_50x_017_001.png\n",
      "tribo_014_flint1_bu_x20-003_001.png\n",
      "sprucewood X tribo_015_flint_sprucewood_5h_50x_026_001.png\n",
      "antler X tribo_022_flint1_antler_5h_20x_016_001.png\n",
      "bone X tribo_013_flint1_bone_002_5h_x20_044_001.png\n",
      "beechwood X tribo_005_flint1_beechwood_002_x20-005_001.png\n",
      "beechwood X tribo_005_flint1_beechwood_002_x50-005_001.png\n",
      "sprucewood X tribo_015_flint_sprucewood_5h_50x_027_001.png\n",
      "antler X tribo_022_flint1_antler_x20_003_001.png\n",
      "fern X tribo_001_flintc2sl_fern_9h_50x_010_001.png\n",
      "horsetail X tribo_001_flintb1sh_horsetail_9h_50x_018_001.png\n",
      "tribo_016_flint1_bu_x50-001_001.png\n",
      "tribo_016_flint1_bu_x20-001_001.png\n",
      "horsetail X tribo_001_flintb1sh_horsetail_9h_20x_009_001.png\n",
      "9\n",
      "fern 10\n",
      "beechwood 10\n",
      "barley 10\n",
      "antler 10\n",
      "beforeuse 10\n",
      "horsetail 10\n",
      "sprucewood 10\n",
      "ivory 10\n",
      "bone 10\n"
     ]
    }
   ],
   "source": [
    "example_dict = {}\n",
    "for file in example_files:\n",
    "    filename = file.lower()\n",
    "    register_file(file, categories, example_dict, support_path)\n",
    "\n",
    "print(len(example_dict))\n",
    "for k in example_dict:\n",
    "    print(k, len(example_dict[k]))"
   ]
  },
  {
   "cell_type": "code",
   "execution_count": 27,
   "metadata": {},
   "outputs": [],
   "source": [
    "def make_base_prompt_fewshot(categories, background_prompt, example_dict, num_shots=5, shuffle_show=False, shuffle_example=False):\n",
    "    task_prompt = \"Now there are a few demonstration heightmap images from exactly nine use-types:\" + str(categories)\n",
    "    base_request_content = [\n",
    "        {\n",
    "            \"type\": \"text\",\n",
    "            \"text\": background_prompt + \"\\n\\n\" + task_prompt\n",
    "        }\n",
    "    ]\n",
    "    demonstration_pairs = list()\n",
    "    # make example dictionary into a list of pairs (cat, img)\n",
    "    # adding beforeuse as the beginning.\n",
    "    # demonstration_pairs.append((\"beforeuse\", example_dict[\"beforeuse\"][0]))\n",
    "    for cat in categories: # category + beforeuse\n",
    "        if shuffle_example:\n",
    "            for cat_img in random.sample(example_dict[cat], num_shots):\n",
    "                demonstration_pairs.append((cat, cat_img))\n",
    "        else:\n",
    "            for cat_img in example_dict[cat][:num_shots]:\n",
    "                demonstration_pairs.append((cat, cat_img))\n",
    "    # # adding beforeuse as the end.\n",
    "    # demonstration_pairs.append((\"beforeuse\", example_dict[\"beforeuse\"][0]))\n",
    "    # shuffle the list\n",
    "    if shuffle_show:\n",
    "        random.shuffle(demonstration_pairs)\n",
    "    for (cat, cat_img) in demonstration_pairs:\n",
    "        if cat == \"beforeuse\":\n",
    "            prompt = \"This is an heightmap image taken with advanced microscopes showing no trace of use on any meterial, so the use-type is {}.\\n\".format(cat)\n",
    "        else:\n",
    "            prompt = \"This is an heightmap image taken with advanced microscopes containing traces created by meterial {}, so the use-type is {}.\\n\".format(cat, cat)\n",
    "        print(prompt)\n",
    "        base_request_content.append(\n",
    "            {\n",
    "            \"type\": \"image_url\",\n",
    "            \"image_url\": {\n",
    "                \"url\": f\"data:image/jpeg;base64,{cat_img}\"\n",
    "                }\n",
    "            }\n",
    "        )\n",
    "        base_request_content.append(\n",
    "            {\n",
    "            \"type\": \"text\",\n",
    "            \"text\": prompt\n",
    "            }\n",
    "        )\n",
    "    return base_request_content"
   ]
  },
  {
   "cell_type": "code",
   "execution_count": 28,
   "metadata": {},
   "outputs": [
    {
     "name": "stdout",
     "output_type": "stream",
     "text": [
      "This is an heightmap image taken with advanced microscopes containing traces created by meterial sprucewood, so the use-type is sprucewood.\n",
      "\n",
      "This is an heightmap image taken with advanced microscopes containing traces created by meterial beechwood, so the use-type is beechwood.\n",
      "\n",
      "This is an heightmap image taken with advanced microscopes containing traces created by meterial beechwood, so the use-type is beechwood.\n",
      "\n",
      "This is an heightmap image taken with advanced microscopes containing traces created by meterial beechwood, so the use-type is beechwood.\n",
      "\n",
      "This is an heightmap image taken with advanced microscopes containing traces created by meterial sprucewood, so the use-type is sprucewood.\n",
      "\n",
      "This is an heightmap image taken with advanced microscopes containing traces created by meterial barley, so the use-type is barley.\n",
      "\n",
      "This is an heightmap image taken with advanced microscopes containing traces created by meterial bone, so the use-type is bone.\n",
      "\n",
      "This is an heightmap image taken with advanced microscopes containing traces created by meterial horsetail, so the use-type is horsetail.\n",
      "\n",
      "This is an heightmap image taken with advanced microscopes containing traces created by meterial barley, so the use-type is barley.\n",
      "\n",
      "This is an heightmap image taken with advanced microscopes containing traces created by meterial antler, so the use-type is antler.\n",
      "\n",
      "This is an heightmap image taken with advanced microscopes containing traces created by meterial ivory, so the use-type is ivory.\n",
      "\n",
      "This is an heightmap image taken with advanced microscopes containing traces created by meterial horsetail, so the use-type is horsetail.\n",
      "\n",
      "This is an heightmap image taken with advanced microscopes containing traces created by meterial ivory, so the use-type is ivory.\n",
      "\n",
      "This is an heightmap image taken with advanced microscopes containing traces created by meterial barley, so the use-type is barley.\n",
      "\n",
      "This is an heightmap image taken with advanced microscopes containing traces created by meterial antler, so the use-type is antler.\n",
      "\n",
      "This is an heightmap image taken with advanced microscopes containing traces created by meterial barley, so the use-type is barley.\n",
      "\n",
      "This is an heightmap image taken with advanced microscopes containing traces created by meterial bone, so the use-type is bone.\n",
      "\n",
      "This is an heightmap image taken with advanced microscopes showing no trace of use on any meterial, so the use-type is beforeuse.\n",
      "\n",
      "This is an heightmap image taken with advanced microscopes containing traces created by meterial horsetail, so the use-type is horsetail.\n",
      "\n",
      "This is an heightmap image taken with advanced microscopes containing traces created by meterial antler, so the use-type is antler.\n",
      "\n",
      "This is an heightmap image taken with advanced microscopes containing traces created by meterial fern, so the use-type is fern.\n",
      "\n",
      "This is an heightmap image taken with advanced microscopes containing traces created by meterial barley, so the use-type is barley.\n",
      "\n",
      "This is an heightmap image taken with advanced microscopes containing traces created by meterial beechwood, so the use-type is beechwood.\n",
      "\n",
      "This is an heightmap image taken with advanced microscopes showing no trace of use on any meterial, so the use-type is beforeuse.\n",
      "\n",
      "This is an heightmap image taken with advanced microscopes showing no trace of use on any meterial, so the use-type is beforeuse.\n",
      "\n",
      "This is an heightmap image taken with advanced microscopes containing traces created by meterial ivory, so the use-type is ivory.\n",
      "\n",
      "This is an heightmap image taken with advanced microscopes containing traces created by meterial fern, so the use-type is fern.\n",
      "\n",
      "This is an heightmap image taken with advanced microscopes containing traces created by meterial bone, so the use-type is bone.\n",
      "\n",
      "This is an heightmap image taken with advanced microscopes containing traces created by meterial antler, so the use-type is antler.\n",
      "\n",
      "This is an heightmap image taken with advanced microscopes showing no trace of use on any meterial, so the use-type is beforeuse.\n",
      "\n",
      "This is an heightmap image taken with advanced microscopes containing traces created by meterial horsetail, so the use-type is horsetail.\n",
      "\n",
      "This is an heightmap image taken with advanced microscopes containing traces created by meterial sprucewood, so the use-type is sprucewood.\n",
      "\n",
      "This is an heightmap image taken with advanced microscopes containing traces created by meterial fern, so the use-type is fern.\n",
      "\n",
      "This is an heightmap image taken with advanced microscopes containing traces created by meterial bone, so the use-type is bone.\n",
      "\n",
      "This is an heightmap image taken with advanced microscopes showing no trace of use on any meterial, so the use-type is beforeuse.\n",
      "\n",
      "This is an heightmap image taken with advanced microscopes containing traces created by meterial sprucewood, so the use-type is sprucewood.\n",
      "\n",
      "This is an heightmap image taken with advanced microscopes containing traces created by meterial beechwood, so the use-type is beechwood.\n",
      "\n",
      "This is an heightmap image taken with advanced microscopes containing traces created by meterial fern, so the use-type is fern.\n",
      "\n",
      "This is an heightmap image taken with advanced microscopes containing traces created by meterial horsetail, so the use-type is horsetail.\n",
      "\n",
      "This is an heightmap image taken with advanced microscopes containing traces created by meterial ivory, so the use-type is ivory.\n",
      "\n",
      "This is an heightmap image taken with advanced microscopes containing traces created by meterial sprucewood, so the use-type is sprucewood.\n",
      "\n",
      "This is an heightmap image taken with advanced microscopes containing traces created by meterial ivory, so the use-type is ivory.\n",
      "\n",
      "This is an heightmap image taken with advanced microscopes containing traces created by meterial fern, so the use-type is fern.\n",
      "\n",
      "This is an heightmap image taken with advanced microscopes containing traces created by meterial bone, so the use-type is bone.\n",
      "\n",
      "This is an heightmap image taken with advanced microscopes containing traces created by meterial antler, so the use-type is antler.\n",
      "\n"
     ]
    }
   ],
   "source": [
    "base_request_content = make_base_prompt_fewshot(categories, background_prompt, example_dict, num_shots=5, shuffle_show=True, shuffle_example=True)"
   ]
  },
  {
   "cell_type": "code",
   "execution_count": 30,
   "metadata": {},
   "outputs": [],
   "source": [
    "instruction = \"This is another heightmap image, do the traces on this image belong to which of the nine use-types as demonstrated above? Answer in exactly one word: \""
   ]
  },
  {
   "cell_type": "code",
   "execution_count": 32,
   "metadata": {},
   "outputs": [
    {
     "name": "stderr",
     "output_type": "stream",
     "text": [
      "100%|██████████| 90/90 [57:52<00:00, 38.58s/it]  \n"
     ]
    }
   ],
   "source": [
    "gpt4v_response = {}\n",
    "for test_image in tqdm(test_images_all):\n",
    "    # encode the query image\n",
    "    test_image_encoded = encode_image(test_dir + test_image)\n",
    "    # test prompt\n",
    "    test_image_prompt = {\n",
    "        \"type\": \"image_url\",\n",
    "        \"image_url\": {\n",
    "            \"url\": f\"data:image/jpeg;base64,{test_image_encoded}\"\n",
    "            }\n",
    "    }\n",
    "    test_image_instruction = {\n",
    "        \"type\": \"text\",\n",
    "        \"text\": instruction\n",
    "    }\n",
    "    request_content = base_request_content + [test_image_prompt, test_image_instruction]\n",
    "    # make request\n",
    "    client = OpenAI(api_key=api_key)\n",
    "    response = client.chat.completions.create(\n",
    "        model=\"gpt-4-vision-preview\",\n",
    "        messages=[\n",
    "            {\n",
    "                \"role\": \"user\",\n",
    "                \"content\": request_content\n",
    "            }\n",
    "        ],\n",
    "        max_tokens=300,\n",
    "        temperature=0.0,\n",
    "    )\n",
    "    # parse response\n",
    "    gpt4v_response[test_image] = {\n",
    "        'response': response,\n",
    "        'answer': parse_response(response)\n",
    "    }"
   ]
  },
  {
   "cell_type": "code",
   "execution_count": 33,
   "metadata": {},
   "outputs": [
    {
     "name": "stdout",
     "output_type": "stream",
     "text": [
      "TRIBO_012_FLINT_SPRUCEWOOD_5h_20X_008_001.png Barley\n",
      "find barley\n",
      "num_irregular 1\n",
      "num_not_in_categories 0\n",
      "num_more_than_one_categories 0\n"
     ]
    }
   ],
   "source": [
    "formatted, not_in_any = format_predictions(gpt4v_response, categories)"
   ]
  },
  {
   "cell_type": "code",
   "execution_count": 34,
   "metadata": {},
   "outputs": [],
   "source": [
    "# save the answer as a readable json file\n",
    "import json\n",
    "with open('gpt4v_predictions_label_sequence_9w5s_20+50_hm_shuffle.json', 'w') as fp:\n",
    "    json.dump(formatted, fp)"
   ]
  },
  {
   "cell_type": "markdown",
   "metadata": {},
   "source": [
    "## 50x experiments"
   ]
  },
  {
   "cell_type": "code",
   "execution_count": 15,
   "metadata": {},
   "outputs": [
    {
     "name": "stdout",
     "output_type": "stream",
     "text": [
      "This is an image taken with advanced microscopes containing traces created by meterial bone, so the use-type is bone.\n",
      "\n",
      "This is an image taken with advanced microscopes containing traces created by meterial horsetail, so the use-type is horsetail.\n",
      "\n",
      "This is an image taken with advanced microscopes containing traces created by meterial sprucewood, so the use-type is sprucewood.\n",
      "\n",
      "This is an image taken with advanced microscopes containing traces created by meterial beechwood, so the use-type is beechwood.\n",
      "\n",
      "This is an image taken with advanced microscopes containing traces created by meterial barley, so the use-type is barley.\n",
      "\n",
      "This is an image taken with advanced microscopes containing traces created by meterial fern, so the use-type is fern.\n",
      "\n",
      "This is an image taken with advanced microscopes containing traces created by meterial beechwood, so the use-type is beechwood.\n",
      "\n",
      "This is an image taken with advanced microscopes containing traces created by meterial ivory, so the use-type is ivory.\n",
      "\n",
      "This is an image taken with advanced microscopes containing traces created by meterial horsetail, so the use-type is horsetail.\n",
      "\n",
      "This is an image taken with advanced microscopes showing no trace of use on any meterial, so the use-type is beforeuse.\n",
      "\n",
      "This is an image taken with advanced microscopes containing traces created by meterial antler, so the use-type is antler.\n",
      "\n",
      "This is an image taken with advanced microscopes containing traces created by meterial sprucewood, so the use-type is sprucewood.\n",
      "\n",
      "This is an image taken with advanced microscopes containing traces created by meterial beechwood, so the use-type is beechwood.\n",
      "\n",
      "This is an image taken with advanced microscopes containing traces created by meterial antler, so the use-type is antler.\n",
      "\n",
      "This is an image taken with advanced microscopes containing traces created by meterial sprucewood, so the use-type is sprucewood.\n",
      "\n",
      "This is an image taken with advanced microscopes containing traces created by meterial ivory, so the use-type is ivory.\n",
      "\n",
      "This is an image taken with advanced microscopes showing no trace of use on any meterial, so the use-type is beforeuse.\n",
      "\n",
      "This is an image taken with advanced microscopes showing no trace of use on any meterial, so the use-type is beforeuse.\n",
      "\n",
      "This is an image taken with advanced microscopes containing traces created by meterial ivory, so the use-type is ivory.\n",
      "\n",
      "This is an image taken with advanced microscopes containing traces created by meterial sprucewood, so the use-type is sprucewood.\n",
      "\n",
      "This is an image taken with advanced microscopes containing traces created by meterial ivory, so the use-type is ivory.\n",
      "\n",
      "This is an image taken with advanced microscopes containing traces created by meterial antler, so the use-type is antler.\n",
      "\n",
      "This is an image taken with advanced microscopes containing traces created by meterial antler, so the use-type is antler.\n",
      "\n",
      "This is an image taken with advanced microscopes containing traces created by meterial beechwood, so the use-type is beechwood.\n",
      "\n",
      "This is an image taken with advanced microscopes containing traces created by meterial barley, so the use-type is barley.\n",
      "\n",
      "This is an image taken with advanced microscopes containing traces created by meterial horsetail, so the use-type is horsetail.\n",
      "\n",
      "This is an image taken with advanced microscopes containing traces created by meterial fern, so the use-type is fern.\n",
      "\n",
      "This is an image taken with advanced microscopes containing traces created by meterial fern, so the use-type is fern.\n",
      "\n",
      "This is an image taken with advanced microscopes containing traces created by meterial barley, so the use-type is barley.\n",
      "\n",
      "This is an image taken with advanced microscopes showing no trace of use on any meterial, so the use-type is beforeuse.\n",
      "\n",
      "This is an image taken with advanced microscopes containing traces created by meterial beechwood, so the use-type is beechwood.\n",
      "\n",
      "This is an image taken with advanced microscopes containing traces created by meterial barley, so the use-type is barley.\n",
      "\n",
      "This is an image taken with advanced microscopes containing traces created by meterial horsetail, so the use-type is horsetail.\n",
      "\n",
      "This is an image taken with advanced microscopes containing traces created by meterial ivory, so the use-type is ivory.\n",
      "\n",
      "This is an image taken with advanced microscopes containing traces created by meterial bone, so the use-type is bone.\n",
      "\n",
      "This is an image taken with advanced microscopes showing no trace of use on any meterial, so the use-type is beforeuse.\n",
      "\n",
      "This is an image taken with advanced microscopes containing traces created by meterial bone, so the use-type is bone.\n",
      "\n",
      "This is an image taken with advanced microscopes containing traces created by meterial bone, so the use-type is bone.\n",
      "\n",
      "This is an image taken with advanced microscopes containing traces created by meterial sprucewood, so the use-type is sprucewood.\n",
      "\n",
      "This is an image taken with advanced microscopes containing traces created by meterial fern, so the use-type is fern.\n",
      "\n",
      "This is an image taken with advanced microscopes containing traces created by meterial fern, so the use-type is fern.\n",
      "\n",
      "This is an image taken with advanced microscopes containing traces created by meterial horsetail, so the use-type is horsetail.\n",
      "\n",
      "This is an image taken with advanced microscopes containing traces created by meterial bone, so the use-type is bone.\n",
      "\n",
      "This is an image taken with advanced microscopes containing traces created by meterial barley, so the use-type is barley.\n",
      "\n"
     ]
    }
   ],
   "source": [
    "base_request_content = make_base_prompt_fewshot(categories, background_prompt, example_dict_x50, num_shots=5, shuffle_show=True, shuffle_example=False)"
   ]
  },
  {
   "cell_type": "code",
   "execution_count": 16,
   "metadata": {},
   "outputs": [],
   "source": [
    "instruction = \"This is another image, do the traces on this image belong to which of the nine use-types as demonstrated above? Answer in exactly one word: \"\n",
    "# does the order matter?"
   ]
  },
  {
   "cell_type": "code",
   "execution_count": 17,
   "metadata": {},
   "outputs": [
    {
     "name": "stderr",
     "output_type": "stream",
     "text": [
      "100%|██████████| 45/45 [26:33<00:00, 35.40s/it]\n"
     ]
    }
   ],
   "source": [
    "gpt4v_response = {}\n",
    "for test_image in tqdm(test_images_x50):\n",
    "    # encode the query image\n",
    "    test_image_encoded = encode_image(test_dir + test_image)\n",
    "    # test prompt\n",
    "    test_image_prompt = {\n",
    "        \"type\": \"image_url\",\n",
    "        \"image_url\": {\n",
    "            \"url\": f\"data:image/jpeg;base64,{test_image_encoded}\"\n",
    "            }\n",
    "    }\n",
    "    test_image_instruction = {\n",
    "        \"type\": \"text\",\n",
    "        \"text\": instruction\n",
    "    }\n",
    "    request_content = base_request_content + [test_image_prompt, test_image_instruction]\n",
    "    # make request\n",
    "    client = OpenAI(api_key=api_key)\n",
    "    response = client.chat.completions.create(\n",
    "        model=\"gpt-4-vision-preview\",\n",
    "        messages=[\n",
    "            {\n",
    "                \"role\": \"user\",\n",
    "                \"content\": request_content\n",
    "            }\n",
    "        ],\n",
    "        max_tokens=300,\n",
    "        temperature=0.0,\n",
    "    )\n",
    "    # parse response\n",
    "    gpt4v_response[test_image] = {\n",
    "        'response': response,\n",
    "        'answer': parse_response(response)\n",
    "    }"
   ]
  },
  {
   "cell_type": "code",
   "execution_count": 18,
   "metadata": {},
   "outputs": [
    {
     "name": "stdout",
     "output_type": "stream",
     "text": [
      "TRIBO_001_FLINTA1SM_BARLEY_9h_50X_003_001.png The traces in this image do not match any of the nine demonstrated use-types.\n",
      "not in categories\n",
      "TRIBO_011_FLINT1_ANTLER_001_3h_X50-003_001.png The traces in this image belong to the use-type \"bone.\"\n",
      "find bone\n",
      "TRIBO_011_FLINT1_BU_X50-002_001.png The traces in this image belong to the use-type \"bone.\"\n",
      "find bone\n",
      "num_irregular 3\n",
      "num_not_in_categories 1\n",
      "num_more_than_one_categories 0\n"
     ]
    }
   ],
   "source": [
    "formatted, not_in_any = format_predictions(gpt4v_response, categories)"
   ]
  },
  {
   "cell_type": "code",
   "execution_count": 19,
   "metadata": {},
   "outputs": [],
   "source": [
    "# save the answer as a readable json file\n",
    "import json\n",
    "with open('gpt4v_predictions_label_sequence_9w5s_shuffle.json', 'w') as fp:\n",
    "    json.dump(formatted, fp)"
   ]
  },
  {
   "cell_type": "markdown",
   "metadata": {},
   "source": [
    "## 20x experiment"
   ]
  },
  {
   "cell_type": "code",
   "execution_count": 20,
   "metadata": {},
   "outputs": [
    {
     "name": "stdout",
     "output_type": "stream",
     "text": [
      "This is an image taken with advanced microscopes containing traces created by meterial horsetail, so the use-type is horsetail.\n",
      "\n",
      "This is an image taken with advanced microscopes containing traces created by meterial sprucewood, so the use-type is sprucewood.\n",
      "\n",
      "This is an image taken with advanced microscopes containing traces created by meterial beechwood, so the use-type is beechwood.\n",
      "\n",
      "This is an image taken with advanced microscopes containing traces created by meterial horsetail, so the use-type is horsetail.\n",
      "\n",
      "This is an image taken with advanced microscopes containing traces created by meterial barley, so the use-type is barley.\n",
      "\n",
      "This is an image taken with advanced microscopes containing traces created by meterial antler, so the use-type is antler.\n",
      "\n",
      "This is an image taken with advanced microscopes showing no trace of use on any meterial, so the use-type is beforeuse.\n",
      "\n",
      "This is an image taken with advanced microscopes containing traces created by meterial fern, so the use-type is fern.\n",
      "\n",
      "This is an image taken with advanced microscopes containing traces created by meterial ivory, so the use-type is ivory.\n",
      "\n",
      "This is an image taken with advanced microscopes containing traces created by meterial ivory, so the use-type is ivory.\n",
      "\n",
      "This is an image taken with advanced microscopes containing traces created by meterial ivory, so the use-type is ivory.\n",
      "\n",
      "This is an image taken with advanced microscopes containing traces created by meterial fern, so the use-type is fern.\n",
      "\n",
      "This is an image taken with advanced microscopes containing traces created by meterial fern, so the use-type is fern.\n",
      "\n",
      "This is an image taken with advanced microscopes containing traces created by meterial sprucewood, so the use-type is sprucewood.\n",
      "\n",
      "This is an image taken with advanced microscopes containing traces created by meterial bone, so the use-type is bone.\n",
      "\n",
      "This is an image taken with advanced microscopes containing traces created by meterial beechwood, so the use-type is beechwood.\n",
      "\n",
      "This is an image taken with advanced microscopes containing traces created by meterial barley, so the use-type is barley.\n",
      "\n",
      "This is an image taken with advanced microscopes containing traces created by meterial bone, so the use-type is bone.\n",
      "\n",
      "This is an image taken with advanced microscopes containing traces created by meterial fern, so the use-type is fern.\n",
      "\n",
      "This is an image taken with advanced microscopes containing traces created by meterial antler, so the use-type is antler.\n",
      "\n",
      "This is an image taken with advanced microscopes showing no trace of use on any meterial, so the use-type is beforeuse.\n",
      "\n",
      "This is an image taken with advanced microscopes containing traces created by meterial sprucewood, so the use-type is sprucewood.\n",
      "\n",
      "This is an image taken with advanced microscopes containing traces created by meterial antler, so the use-type is antler.\n",
      "\n",
      "This is an image taken with advanced microscopes containing traces created by meterial beechwood, so the use-type is beechwood.\n",
      "\n",
      "This is an image taken with advanced microscopes containing traces created by meterial bone, so the use-type is bone.\n",
      "\n",
      "This is an image taken with advanced microscopes showing no trace of use on any meterial, so the use-type is beforeuse.\n",
      "\n",
      "This is an image taken with advanced microscopes containing traces created by meterial horsetail, so the use-type is horsetail.\n",
      "\n",
      "This is an image taken with advanced microscopes containing traces created by meterial barley, so the use-type is barley.\n",
      "\n",
      "This is an image taken with advanced microscopes containing traces created by meterial barley, so the use-type is barley.\n",
      "\n",
      "This is an image taken with advanced microscopes containing traces created by meterial ivory, so the use-type is ivory.\n",
      "\n",
      "This is an image taken with advanced microscopes containing traces created by meterial beechwood, so the use-type is beechwood.\n",
      "\n",
      "This is an image taken with advanced microscopes showing no trace of use on any meterial, so the use-type is beforeuse.\n",
      "\n",
      "This is an image taken with advanced microscopes containing traces created by meterial sprucewood, so the use-type is sprucewood.\n",
      "\n",
      "This is an image taken with advanced microscopes containing traces created by meterial barley, so the use-type is barley.\n",
      "\n",
      "This is an image taken with advanced microscopes containing traces created by meterial horsetail, so the use-type is horsetail.\n",
      "\n",
      "This is an image taken with advanced microscopes containing traces created by meterial sprucewood, so the use-type is sprucewood.\n",
      "\n",
      "This is an image taken with advanced microscopes containing traces created by meterial antler, so the use-type is antler.\n",
      "\n",
      "This is an image taken with advanced microscopes containing traces created by meterial fern, so the use-type is fern.\n",
      "\n",
      "This is an image taken with advanced microscopes showing no trace of use on any meterial, so the use-type is beforeuse.\n",
      "\n",
      "This is an image taken with advanced microscopes containing traces created by meterial bone, so the use-type is bone.\n",
      "\n",
      "This is an image taken with advanced microscopes containing traces created by meterial antler, so the use-type is antler.\n",
      "\n",
      "This is an image taken with advanced microscopes containing traces created by meterial bone, so the use-type is bone.\n",
      "\n",
      "This is an image taken with advanced microscopes containing traces created by meterial beechwood, so the use-type is beechwood.\n",
      "\n",
      "This is an image taken with advanced microscopes containing traces created by meterial ivory, so the use-type is ivory.\n",
      "\n",
      "This is an image taken with advanced microscopes containing traces created by meterial horsetail, so the use-type is horsetail.\n",
      "\n"
     ]
    }
   ],
   "source": [
    "base_request_content = make_base_prompt_fewshot(categories, background_prompt, example_dict_x20, num_shots=5, shuffle_show=True, shuffle_example=False)"
   ]
  },
  {
   "cell_type": "code",
   "execution_count": 21,
   "metadata": {},
   "outputs": [],
   "source": [
    "instruction = \"This is another image, do the traces on this image belong to which of the nine use-types as demonstrated above? Answer in exactly one word: \""
   ]
  },
  {
   "cell_type": "code",
   "execution_count": 22,
   "metadata": {},
   "outputs": [
    {
     "name": "stderr",
     "output_type": "stream",
     "text": [
      "100%|██████████| 45/45 [24:52<00:00, 33.16s/it]\n"
     ]
    }
   ],
   "source": [
    "gpt4v_response = {}\n",
    "for test_image in tqdm(test_images_x20):\n",
    "    # encode the query image\n",
    "    test_image_encoded = encode_image(test_dir + test_image)\n",
    "    # test prompt\n",
    "    test_image_prompt = {\n",
    "        \"type\": \"image_url\",\n",
    "        \"image_url\": {\n",
    "            \"url\": f\"data:image/jpeg;base64,{test_image_encoded}\"\n",
    "            }\n",
    "    }\n",
    "    test_image_instruction = {\n",
    "        \"type\": \"text\",\n",
    "        \"text\": instruction\n",
    "    }\n",
    "    request_content = base_request_content + [test_image_prompt, test_image_instruction]\n",
    "    # make request\n",
    "    client = OpenAI(api_key=api_key)\n",
    "    response = client.chat.completions.create(\n",
    "        model=\"gpt-4-vision-preview\",\n",
    "        messages=[\n",
    "            {\n",
    "                \"role\": \"user\",\n",
    "                \"content\": request_content\n",
    "            }\n",
    "        ],\n",
    "        max_tokens=300,\n",
    "        temperature=0.0,\n",
    "    )\n",
    "    # parse response\n",
    "    gpt4v_response[test_image] = {\n",
    "        'response': response,\n",
    "        'answer': parse_response(response)\n",
    "    }"
   ]
  },
  {
   "cell_type": "code",
   "execution_count": 23,
   "metadata": {},
   "outputs": [
    {
     "name": "stdout",
     "output_type": "stream",
     "text": [
      "TRIBO_011_FLINT1_ANTLER_001_5h_X20-005_001.png Bone\n",
      "find bone\n",
      "TRIBO_012_FLINT_SPRUCEWOOD_5h_20X_010_001.png The traces in this image do not match any of the nine demonstrated use-types.\n",
      "not in categories\n",
      "TRIBO_023_FLINT1_BU_X20-003_001.png The traces in this image do not belong to any of the nine use-types demonstrated above.\n",
      "not in categories\n",
      "TRIBO_020_FLINT1_BONE_5h_X20-001_001.png The traces in this image belong to the use-type \"antler.\"\n",
      "find antler\n",
      "TRIBO_025_FLINT1_IVORY_X20_5h-002_001.png The traces in the image belong to the use-type \"horsetail.\"\n",
      "find horsetail\n",
      "TRIBO_001_FLINTA2SM_BARLEY_9h_20X_012_001.png The traces in this image do not match any of the nine demonstrated use-types.\n",
      "not in categories\n",
      "num_irregular 6\n",
      "num_not_in_categories 3\n",
      "num_more_than_one_categories 0\n"
     ]
    }
   ],
   "source": [
    "formatted, not_in_any = format_predictions(gpt4v_response, categories)"
   ]
  },
  {
   "cell_type": "code",
   "execution_count": 24,
   "metadata": {},
   "outputs": [],
   "source": [
    "# save the answer as a readable json file\n",
    "import json\n",
    "with open('gpt4v_predictions_label_sequence_9w5sx20_shuffle.json', 'w') as fp:\n",
    "    json.dump(formatted, fp)"
   ]
  },
  {
   "cell_type": "markdown",
   "metadata": {},
   "source": [
    "## Heightmap experiment"
   ]
  },
  {
   "cell_type": "code",
   "execution_count": 27,
   "metadata": {},
   "outputs": [],
   "source": [
    "additional_prompt = \"They also use heightmap to help them understand the traces on the stone tools. The heightmap indicates the height of the surface of the stone tool with colors to better reflect the details of the surface and help identify the traces.\""
   ]
  },
  {
   "cell_type": "code",
   "execution_count": 29,
   "metadata": {},
   "outputs": [
    {
     "name": "stdout",
     "output_type": "stream",
     "text": [
      "They also use heightmap to help them understand the traces on the stone tools. The heightmap indicates the height of the surface of the stone tool with colors to better reflect the details of the surface and help identify the traces.\n"
     ]
    }
   ],
   "source": [
    "print(additional_prompt)"
   ]
  },
  {
   "cell_type": "code",
   "execution_count": 35,
   "metadata": {},
   "outputs": [],
   "source": [
    "background_prompt = background_prompt + \"\\n\"+ additional_prompt"
   ]
  },
  {
   "cell_type": "code",
   "execution_count": 36,
   "metadata": {},
   "outputs": [
    {
     "name": "stdout",
     "output_type": "stream",
     "text": [
      "An archaeologist conducting lithic use-wear analysis would examine the microscopic wear patterns on the tool's surface to infer its function and the materials it was used on. Typically it involves looking for certain types of wear on the stone tool, such as:\n",
      " * Polishing: Smooth areas that result from the tool being used on a particular material.\n",
      " * Striations: Lines that can indicate the direction of movement during use.\n",
      " * Microflaking: Tiny, often barely visible, chips along the edge of the tool that can show how it was used.\n",
      "They also use heightmap to help them understand the traces on the stone tools. The heightmap indicates the height of the surface of the stone tool with colors to better reflect the details of the surface and help identify the traces.\n"
     ]
    }
   ],
   "source": [
    "print(background_prompt)"
   ]
  },
  {
   "cell_type": "code",
   "execution_count": 31,
   "metadata": {},
   "outputs": [
    {
     "name": "stdout",
     "output_type": "stream",
     "text": [
      "45 45 90\n"
     ]
    }
   ],
   "source": [
    "# pull out the test data:\n",
    "test_dir = \"./LUWA-FSL-GPT4V/Query-with-label-sequence/heightmap_png/\"\n",
    "test_images_all = os.listdir(test_dir)\n",
    "test_images_x50 = [img for img in test_images_all if \"50x\" in img.lower() or \"x50\" in img.lower()]\n",
    "test_images_x20 = [img for img in test_images_all if \"20x\" in img.lower() or \"x20\" in img.lower()]\n",
    "print(len(test_images_x50), len(test_images_x20), len(test_images_all))"
   ]
  },
  {
   "cell_type": "code",
   "execution_count": 32,
   "metadata": {},
   "outputs": [
    {
     "name": "stdout",
     "output_type": "stream",
     "text": [
      "['TRIBO_001_FLINTC1SL_FERN_9h_50X_003_001.png', 'TRIBO_010_FLINT1_BEECHWOOD_005_5h_X50_012_001.png', 'TRIBO_001_FLINTA2SM_BARLEY_9h_50X_020_001.png', 'TRIBO_001_FLINTC1SL_FERN_9h_20X_012_001.png', 'TRIBO_001_FLINTC1SL_FERN_9h_20X_002_001.png', 'TRIBO_022_FLINT1_ANTLER_5h_20X_046_001.png', 'TRIBO_015_FLINT1_BU_X50-002_001.png', 'TRIBO_001_FLINTB1SH_HORSETAIL_9h_20X_005_001.png', 'TRIBO_015_FLINT_SPRUCEWOOD_5h_50X_032_001.png', 'TRIBO_022_FLINT1_ANTLER_5h_20X_002_001.png', 'TRIBO_001_FLINTA1SM_BARLEY_9h_20X_002_001.png', 'TRIBO_001_FLINTB1SH_HORSETAIL_9h_20X_004_001.png', 'TRIBO_014_FLINT1_IVORY_5h_20X_006_001.png', 'TRIBO_005_FLINT1_BEECHWOOD_002_X50-001_001.png', 'TRIBO_005_FLINT1_BEECHWOOD_002_X20-001_001.png', 'TRIBO_014_FLINT1_IVORY_5h_50X_043_001.png', 'TRIBO_001_FLINTA2SM_BARLEY_9h_20X_020_001.png', 'TRIBO_013_FLINT1_BONE_002_5h_X20_004_001.png', 'TRIBO_001_FLINTC1SL_FERN_9h_50X_002_001.png', 'TRIBO_010_FLINT1_BEECHWOOD_005_5h_X50_003_001.png', 'TRIBO_001_FLINTC1SL_FERN_9h_20X_003_001.png', 'TRIBO_015_FLINT1_SPURCEWOOD_001_1h_X50-001_001.png', 'TRIBO_001_FLINTC1SL_FERN_9h_50X_009_001.png', 'TRIBO_001_FLINTC2SL_FERN_9h_50X_006_001.png', 'TRIBO_015_FLINT1_BU_X20-001_001.png', 'TRIBO_015_FLINT1_BU_X50-001_001.png', 'TRIBO_014_FLINT1_BU_X50-004_001.png', 'TRIBO_001_FLINTA2SM_BARLEY_9h_20X_014_001.png', 'TRIBO_013_FLINT1_BONE_002_3h_X50-005_001.png', 'TRIBO_014_FLINT1_IVORY_X50_001_001.png', 'TRIBO_013_FLINT1_BONE_002_3h_X20-005_001.png', 'TRIBO_001_FLINTB1SH_HORSETAIL_9h_50X_017_001.png', 'TRIBO_015_FLINT1_SPURCEWOOD_001_3h_X20-004_001.png', 'TRIBO_001_FLINTB1SH_HORSETAIL_9h_50X_020_001.png', 'TRIBO_022_FLINT1_ANTLER_5h_20X_009_001.png', 'TRIBO_015_FLINT1_SPURCEWOOD_001_1h_X20-002_001.png', 'TRIBO_001_FLINTC1SL_FERN_9h_20X_010_001.png', 'TRIBO_022_FLINT1_ANTLER_X50_004_001.png', 'TRIBO_014_FLINT1_IVORY_5h_50X_049_001.png', 'TRIBO_014_FLINT1_BU_X50-005_001.png', 'TRIBO_014_FLINT1_BU_X20-005_001.png', 'TRIBO_022_FLINT1_ANTLER_5h_50X_001_001.png', 'TRIBO_001_FLINTB1SH_HORSETAIL_9h_50X_016_001.png', 'TRIBO_013_FLINT1_BONE_002_1h_X50-003_001.png', 'TRIBO_022_FLINT1_ANTLER_5h_50X_004_001.png', 'TRIBO_013_FLINT1_BONE_002_3h_X20-001_001.png', 'TRIBO_014_FLINT1_IVORY_X50_005_001.png', 'TRIBO_013_FLINT1_BONE_002_3h_X50-001_001.png', 'TRIBO_001_FLINTA1SM_BARLEY_9h_20X_015_001.png', 'TRIBO_001_FLINTA2SM_BARLEY_9h_50X_011_001.png', 'TRIBO_015_FLINT_SPRUCEWOOD_5h_50X_025_001.png', 'TRIBO_001_FLINTB1SH_HORSETAIL_9h_20X_002_001.png', 'TRIBO_014_FLINT1_IVORY_5h_20X_009_001.png', 'TRIBO_010_FLINT1_BEECHWOOD_005_5h_X20_015_001.png', 'TRIBO_016_FLINT1_BU_X20-003_001.png', 'TRIBO_010_FLINT1_BEECHWOOD_005_5h_X50_005_001.png', 'TRIBO_013_FLINT1_BONE_002_5h_X50_002_001.png', 'TRIBO_001_FLINTA2SM_BARLEY_9h_50X_008_001.png', 'TRIBO_001_FLINTA2SM_BARLEY_9h_50X_018_001.png', 'TRIBO_022_FLINT1_ANTLER_5h_20X_032_001.png', 'TRIBO_001_FLINTC1SL_FERN_9h_20X_004_001.png', 'TRIBO_014_FLINT1_IVORY_5h_20X_008_001.png', 'TRIBO_001_FLINTA2SM_BARLEY_9h_50X_009_001.png', 'TRIBO_014_FLINT1_IVORY_X50_004_001.png', 'TRIBO_001_FLINTB1SH_HORSETAIL_9h_50X_012_001.png', 'TRIBO_001_FLINTA1SM_BARLEY_9h_20X_004_001.png', 'TRIBO_014_FLINT1_IVORY_5h_20X_011_001.png', 'TRIBO_014_FLINT1_IVORY_5h_20X_001_001.png', 'TRIBO_015_FLINT1_SPURCEWOOD_001_3h_X20-003_001.png', 'TRIBO_013_FLINT1_BONE_002_5h_X20_001_001.png', 'TRIBO_001_FLINTB1SH_HORSETAIL_9h_20X_008_001.png', 'TRIBO_010_FLINT1_BEECHWOOD_005_5h_X20_016_001.png', 'TRIBO_010_FLINT1_BEECHWOOD_005_5h_X20_006_001.png', 'TRIBO_013_FLINT1_BONE_002_1h_X50-005_001.png', 'TRIBO_022_FLINT1_ANTLER_5h_50X_017_001.png', 'TRIBO_014_FLINT1_BU_X20-003_001.png', 'TRIBO_015_FLINT_SPRUCEWOOD_5h_50X_026_001.png', 'TRIBO_022_FLINT1_ANTLER_5h_20X_016_001.png', 'TRIBO_013_FLINT1_BONE_002_5h_X20_044_001.png', 'TRIBO_005_FLINT1_BEECHWOOD_002_X20-005_001.png', 'TRIBO_005_FLINT1_BEECHWOOD_002_X50-005_001.png', 'TRIBO_015_FLINT_SPRUCEWOOD_5h_50X_027_001.png', 'TRIBO_022_FLINT1_ANTLER_X20_003_001.png', 'TRIBO_001_FLINTC2SL_FERN_9h_50X_010_001.png', 'TRIBO_015_FLINT1_SPURCEWOOD_001_1h_X20-005_001.png', 'TRIBO_001_FLINTB1SH_HORSETAIL_9h_50X_018_001.png', 'TRIBO_015_FLINT1_SPURCEWOOD_001_5h_X20-004_001.png', 'TRIBO_016_FLINT1_BU_X50-001_001.png', 'TRIBO_016_FLINT1_BU_X20-001_001.png', 'TRIBO_001_FLINTB1SH_HORSETAIL_9h_20X_009_001.png']\n"
     ]
    }
   ],
   "source": [
    "support_path = './LUWA-FSL-GPT4V/Support/9w10s/heightmap_png/'\n",
    "example_files = os.listdir(support_path)\n",
    "print(example_files)"
   ]
  },
  {
   "cell_type": "code",
   "execution_count": 33,
   "metadata": {},
   "outputs": [
    {
     "name": "stdout",
     "output_type": "stream",
     "text": [
      "fern X tribo_001_flintc1sl_fern_9h_50x_003_001.png\n",
      "beechwood X tribo_010_flint1_beechwood_005_5h_x50_012_001.png\n",
      "barley X tribo_001_flinta2sm_barley_9h_50x_020_001.png\n",
      "fern X tribo_001_flintc1sl_fern_9h_20x_012_001.png\n",
      "fern X tribo_001_flintc1sl_fern_9h_20x_002_001.png\n",
      "antler X tribo_022_flint1_antler_5h_20x_046_001.png\n",
      "tribo_015_flint1_bu_x50-002_001.png\n",
      "horsetail X tribo_001_flintb1sh_horsetail_9h_20x_005_001.png\n",
      "sprucewood X tribo_015_flint_sprucewood_5h_50x_032_001.png\n",
      "antler X tribo_022_flint1_antler_5h_20x_002_001.png\n",
      "barley X tribo_001_flinta1sm_barley_9h_20x_002_001.png\n",
      "horsetail X tribo_001_flintb1sh_horsetail_9h_20x_004_001.png\n",
      "ivory X tribo_014_flint1_ivory_5h_20x_006_001.png\n",
      "beechwood X tribo_005_flint1_beechwood_002_x50-001_001.png\n",
      "beechwood X tribo_005_flint1_beechwood_002_x20-001_001.png\n",
      "ivory X tribo_014_flint1_ivory_5h_50x_043_001.png\n",
      "barley X tribo_001_flinta2sm_barley_9h_20x_020_001.png\n",
      "bone X tribo_013_flint1_bone_002_5h_x20_004_001.png\n",
      "fern X tribo_001_flintc1sl_fern_9h_50x_002_001.png\n",
      "beechwood X tribo_010_flint1_beechwood_005_5h_x50_003_001.png\n",
      "fern X tribo_001_flintc1sl_fern_9h_20x_003_001.png\n",
      "fern X tribo_001_flintc1sl_fern_9h_50x_009_001.png\n",
      "fern X tribo_001_flintc2sl_fern_9h_50x_006_001.png\n",
      "tribo_015_flint1_bu_x20-001_001.png\n",
      "tribo_015_flint1_bu_x50-001_001.png\n",
      "tribo_014_flint1_bu_x50-004_001.png\n",
      "barley X tribo_001_flinta2sm_barley_9h_20x_014_001.png\n",
      "bone X tribo_013_flint1_bone_002_3h_x50-005_001.png\n",
      "ivory X tribo_014_flint1_ivory_x50_001_001.png\n",
      "bone X tribo_013_flint1_bone_002_3h_x20-005_001.png\n",
      "horsetail X tribo_001_flintb1sh_horsetail_9h_50x_017_001.png\n",
      "horsetail X tribo_001_flintb1sh_horsetail_9h_50x_020_001.png\n",
      "antler X tribo_022_flint1_antler_5h_20x_009_001.png\n",
      "fern X tribo_001_flintc1sl_fern_9h_20x_010_001.png\n",
      "antler X tribo_022_flint1_antler_x50_004_001.png\n",
      "ivory X tribo_014_flint1_ivory_5h_50x_049_001.png\n",
      "tribo_014_flint1_bu_x50-005_001.png\n",
      "tribo_014_flint1_bu_x20-005_001.png\n",
      "antler X tribo_022_flint1_antler_5h_50x_001_001.png\n",
      "horsetail X tribo_001_flintb1sh_horsetail_9h_50x_016_001.png\n",
      "bone X tribo_013_flint1_bone_002_1h_x50-003_001.png\n",
      "antler X tribo_022_flint1_antler_5h_50x_004_001.png\n",
      "bone X tribo_013_flint1_bone_002_3h_x20-001_001.png\n",
      "ivory X tribo_014_flint1_ivory_x50_005_001.png\n",
      "bone X tribo_013_flint1_bone_002_3h_x50-001_001.png\n",
      "barley X tribo_001_flinta1sm_barley_9h_20x_015_001.png\n",
      "barley X tribo_001_flinta2sm_barley_9h_50x_011_001.png\n",
      "sprucewood X tribo_015_flint_sprucewood_5h_50x_025_001.png\n",
      "horsetail X tribo_001_flintb1sh_horsetail_9h_20x_002_001.png\n",
      "ivory X tribo_014_flint1_ivory_5h_20x_009_001.png\n",
      "beechwood X tribo_010_flint1_beechwood_005_5h_x20_015_001.png\n",
      "tribo_016_flint1_bu_x20-003_001.png\n",
      "beechwood X tribo_010_flint1_beechwood_005_5h_x50_005_001.png\n",
      "bone X tribo_013_flint1_bone_002_5h_x50_002_001.png\n",
      "barley X tribo_001_flinta2sm_barley_9h_50x_008_001.png\n",
      "barley X tribo_001_flinta2sm_barley_9h_50x_018_001.png\n",
      "antler X tribo_022_flint1_antler_5h_20x_032_001.png\n",
      "fern X tribo_001_flintc1sl_fern_9h_20x_004_001.png\n",
      "ivory X tribo_014_flint1_ivory_5h_20x_008_001.png\n",
      "barley X tribo_001_flinta2sm_barley_9h_50x_009_001.png\n",
      "ivory X tribo_014_flint1_ivory_x50_004_001.png\n",
      "horsetail X tribo_001_flintb1sh_horsetail_9h_50x_012_001.png\n",
      "barley X tribo_001_flinta1sm_barley_9h_20x_004_001.png\n",
      "ivory X tribo_014_flint1_ivory_5h_20x_011_001.png\n",
      "ivory X tribo_014_flint1_ivory_5h_20x_001_001.png\n",
      "bone X tribo_013_flint1_bone_002_5h_x20_001_001.png\n",
      "horsetail X tribo_001_flintb1sh_horsetail_9h_20x_008_001.png\n",
      "beechwood X tribo_010_flint1_beechwood_005_5h_x20_016_001.png\n",
      "beechwood X tribo_010_flint1_beechwood_005_5h_x20_006_001.png\n",
      "bone X tribo_013_flint1_bone_002_1h_x50-005_001.png\n",
      "antler X tribo_022_flint1_antler_5h_50x_017_001.png\n",
      "tribo_014_flint1_bu_x20-003_001.png\n",
      "sprucewood X tribo_015_flint_sprucewood_5h_50x_026_001.png\n",
      "antler X tribo_022_flint1_antler_5h_20x_016_001.png\n",
      "bone X tribo_013_flint1_bone_002_5h_x20_044_001.png\n",
      "beechwood X tribo_005_flint1_beechwood_002_x20-005_001.png\n",
      "beechwood X tribo_005_flint1_beechwood_002_x50-005_001.png\n",
      "sprucewood X tribo_015_flint_sprucewood_5h_50x_027_001.png\n",
      "antler X tribo_022_flint1_antler_x20_003_001.png\n",
      "fern X tribo_001_flintc2sl_fern_9h_50x_010_001.png\n",
      "horsetail X tribo_001_flintb1sh_horsetail_9h_50x_018_001.png\n",
      "tribo_016_flint1_bu_x50-001_001.png\n",
      "tribo_016_flint1_bu_x20-001_001.png\n",
      "horsetail X tribo_001_flintb1sh_horsetail_9h_20x_009_001.png\n"
     ]
    }
   ],
   "source": [
    "# encode example iamges and pair with the categories based on the file name\n",
    "example_dict_x50 = {}\n",
    "example_dict_x20 = {}\n",
    "for file in example_files:\n",
    "    filename = file.lower()\n",
    "    if \"50x\" in filename or \"x50\" in filename:\n",
    "        register_file(file, categories, example_dict_x50, support_path)\n",
    "    elif \"20x\" in filename or \"x20\" in filename:\n",
    "        register_file(file, categories, example_dict_x20, support_path)\n",
    "    else:\n",
    "        print(\"not a valid file\", file)"
   ]
  },
  {
   "cell_type": "code",
   "execution_count": 34,
   "metadata": {},
   "outputs": [
    {
     "name": "stdout",
     "output_type": "stream",
     "text": [
      "9 9\n",
      "fern 5\n",
      "beechwood 5\n",
      "barley 5\n",
      "beforeuse 5\n",
      "sprucewood 5\n",
      "ivory 5\n",
      "bone 5\n",
      "horsetail 5\n",
      "antler 4\n",
      "fern 5\n",
      "antler 6\n",
      "horsetail 5\n",
      "barley 5\n",
      "ivory 5\n",
      "beechwood 5\n",
      "bone 5\n",
      "beforeuse 5\n",
      "sprucewood 5\n"
     ]
    }
   ],
   "source": [
    "print(len(example_dict_x50), len(example_dict_x20))\n",
    "for k in example_dict_x50:\n",
    "    print(k, len(example_dict_x50[k])) \n",
    "for k in example_dict_x20:\n",
    "    print(k, len(example_dict_x20[k]))"
   ]
  },
  {
   "cell_type": "code",
   "execution_count": 37,
   "metadata": {},
   "outputs": [],
   "source": [
    "def make_base_prompt_fewshot(categories, background_prompt, example_dict, num_shots=5, shuffle_show=False, shuffle_example=False):\n",
    "    task_prompt = \"Now there are a few demonstration heightmap images from exactly nine use-types:\" + str(categories)\n",
    "    base_request_content = [\n",
    "        {\n",
    "            \"type\": \"text\",\n",
    "            \"text\": background_prompt + \"\\n\\n\" + task_prompt\n",
    "        }\n",
    "    ]\n",
    "    demonstration_pairs = list()\n",
    "    # make example dictionary into a list of pairs (cat, img)\n",
    "    # adding beforeuse as the beginning.\n",
    "    # demonstration_pairs.append((\"beforeuse\", example_dict[\"beforeuse\"][0]))\n",
    "    for cat in categories: # category + beforeuse\n",
    "        if shuffle_example:\n",
    "            for cat_img in random.sample(example_dict[cat], num_shots):\n",
    "                demonstration_pairs.append((cat, cat_img))\n",
    "        else:\n",
    "            for cat_img in example_dict[cat][:num_shots]:\n",
    "                demonstration_pairs.append((cat, cat_img))\n",
    "    # # adding beforeuse as the end.\n",
    "    # demonstration_pairs.append((\"beforeuse\", example_dict[\"beforeuse\"][0]))\n",
    "    # shuffle the list\n",
    "    if shuffle_show:\n",
    "        random.shuffle(demonstration_pairs)\n",
    "    for (cat, cat_img) in demonstration_pairs:\n",
    "        if cat == \"beforeuse\":\n",
    "            prompt = \"This is an heightmap image taken with advanced microscopes showing no trace of use on any meterial, so the use-type is {}.\\n\".format(cat)\n",
    "        else:\n",
    "            prompt = \"This is an heightmap image taken with advanced microscopes containing traces created by meterial {}, so the use-type is {}.\\n\".format(cat, cat)\n",
    "        print(prompt)\n",
    "        base_request_content.append(\n",
    "            {\n",
    "            \"type\": \"image_url\",\n",
    "            \"image_url\": {\n",
    "                \"url\": f\"data:image/jpeg;base64,{cat_img}\"\n",
    "                }\n",
    "            }\n",
    "        )\n",
    "        base_request_content.append(\n",
    "            {\n",
    "            \"type\": \"text\",\n",
    "            \"text\": prompt\n",
    "            }\n",
    "        )\n",
    "    return base_request_content"
   ]
  },
  {
   "cell_type": "markdown",
   "metadata": {},
   "source": [
    "### 50x experiments"
   ]
  },
  {
   "cell_type": "code",
   "execution_count": 43,
   "metadata": {},
   "outputs": [
    {
     "name": "stdout",
     "output_type": "stream",
     "text": [
      "This is an heightmap image taken with advanced microscopes containing traces created by meterial horsetail, so the use-type is horsetail.\n",
      "\n",
      "This is an heightmap image taken with advanced microscopes containing traces created by meterial sprucewood, so the use-type is sprucewood.\n",
      "\n",
      "This is an heightmap image taken with advanced microscopes containing traces created by meterial sprucewood, so the use-type is sprucewood.\n",
      "\n",
      "This is an heightmap image taken with advanced microscopes containing traces created by meterial barley, so the use-type is barley.\n",
      "\n",
      "This is an heightmap image taken with advanced microscopes containing traces created by meterial bone, so the use-type is bone.\n",
      "\n",
      "This is an heightmap image taken with advanced microscopes showing no trace of use on any meterial, so the use-type is beforeuse.\n",
      "\n",
      "This is an heightmap image taken with advanced microscopes containing traces created by meterial antler, so the use-type is antler.\n",
      "\n",
      "This is an heightmap image taken with advanced microscopes containing traces created by meterial ivory, so the use-type is ivory.\n",
      "\n",
      "This is an heightmap image taken with advanced microscopes containing traces created by meterial antler, so the use-type is antler.\n",
      "\n",
      "This is an heightmap image taken with advanced microscopes containing traces created by meterial sprucewood, so the use-type is sprucewood.\n",
      "\n",
      "This is an heightmap image taken with advanced microscopes containing traces created by meterial horsetail, so the use-type is horsetail.\n",
      "\n",
      "This is an heightmap image taken with advanced microscopes containing traces created by meterial fern, so the use-type is fern.\n",
      "\n",
      "This is an heightmap image taken with advanced microscopes showing no trace of use on any meterial, so the use-type is beforeuse.\n",
      "\n",
      "This is an heightmap image taken with advanced microscopes showing no trace of use on any meterial, so the use-type is beforeuse.\n",
      "\n",
      "This is an heightmap image taken with advanced microscopes containing traces created by meterial ivory, so the use-type is ivory.\n",
      "\n",
      "This is an heightmap image taken with advanced microscopes containing traces created by meterial barley, so the use-type is barley.\n",
      "\n",
      "This is an heightmap image taken with advanced microscopes containing traces created by meterial antler, so the use-type is antler.\n",
      "\n",
      "This is an heightmap image taken with advanced microscopes containing traces created by meterial barley, so the use-type is barley.\n",
      "\n",
      "This is an heightmap image taken with advanced microscopes containing traces created by meterial bone, so the use-type is bone.\n",
      "\n",
      "This is an heightmap image taken with advanced microscopes containing traces created by meterial beechwood, so the use-type is beechwood.\n",
      "\n",
      "This is an heightmap image taken with advanced microscopes containing traces created by meterial horsetail, so the use-type is horsetail.\n",
      "\n",
      "This is an heightmap image taken with advanced microscopes containing traces created by meterial bone, so the use-type is bone.\n",
      "\n",
      "This is an heightmap image taken with advanced microscopes containing traces created by meterial fern, so the use-type is fern.\n",
      "\n",
      "This is an heightmap image taken with advanced microscopes containing traces created by meterial beechwood, so the use-type is beechwood.\n",
      "\n",
      "This is an heightmap image taken with advanced microscopes containing traces created by meterial ivory, so the use-type is ivory.\n",
      "\n",
      "This is an heightmap image taken with advanced microscopes containing traces created by meterial bone, so the use-type is bone.\n",
      "\n",
      "This is an heightmap image taken with advanced microscopes containing traces created by meterial antler, so the use-type is antler.\n",
      "\n",
      "This is an heightmap image taken with advanced microscopes showing no trace of use on any meterial, so the use-type is beforeuse.\n",
      "\n",
      "This is an heightmap image taken with advanced microscopes containing traces created by meterial horsetail, so the use-type is horsetail.\n",
      "\n",
      "This is an heightmap image taken with advanced microscopes showing no trace of use on any meterial, so the use-type is beforeuse.\n",
      "\n",
      "This is an heightmap image taken with advanced microscopes containing traces created by meterial beechwood, so the use-type is beechwood.\n",
      "\n",
      "This is an heightmap image taken with advanced microscopes containing traces created by meterial sprucewood, so the use-type is sprucewood.\n",
      "\n",
      "This is an heightmap image taken with advanced microscopes containing traces created by meterial beechwood, so the use-type is beechwood.\n",
      "\n",
      "This is an heightmap image taken with advanced microscopes containing traces created by meterial fern, so the use-type is fern.\n",
      "\n",
      "This is an heightmap image taken with advanced microscopes containing traces created by meterial horsetail, so the use-type is horsetail.\n",
      "\n",
      "This is an heightmap image taken with advanced microscopes containing traces created by meterial ivory, so the use-type is ivory.\n",
      "\n",
      "This is an heightmap image taken with advanced microscopes containing traces created by meterial sprucewood, so the use-type is sprucewood.\n",
      "\n",
      "This is an heightmap image taken with advanced microscopes containing traces created by meterial ivory, so the use-type is ivory.\n",
      "\n",
      "This is an heightmap image taken with advanced microscopes containing traces created by meterial fern, so the use-type is fern.\n",
      "\n",
      "This is an heightmap image taken with advanced microscopes containing traces created by meterial bone, so the use-type is bone.\n",
      "\n",
      "This is an heightmap image taken with advanced microscopes containing traces created by meterial antler, so the use-type is antler.\n",
      "\n",
      "This is an heightmap image taken with advanced microscopes containing traces created by meterial barley, so the use-type is barley.\n",
      "\n",
      "This is an heightmap image taken with advanced microscopes containing traces created by meterial fern, so the use-type is fern.\n",
      "\n",
      "This is an heightmap image taken with advanced microscopes containing traces created by meterial beechwood, so the use-type is beechwood.\n",
      "\n",
      "This is an heightmap image taken with advanced microscopes containing traces created by meterial barley, so the use-type is barley.\n",
      "\n"
     ]
    }
   ],
   "source": [
    "base_request_content = make_base_prompt_fewshot(categories, background_prompt, example_dict_x20, num_shots=5, shuffle_show=True, shuffle_example=False)"
   ]
  },
  {
   "cell_type": "code",
   "execution_count": 44,
   "metadata": {},
   "outputs": [],
   "source": [
    "instruction = \"This is another heightmap image, do the traces on this image belong to which of the nine use-types as demonstrated above? Answer in exactly one word: \""
   ]
  },
  {
   "cell_type": "code",
   "execution_count": 45,
   "metadata": {},
   "outputs": [
    {
     "name": "stderr",
     "output_type": "stream",
     "text": [
      "100%|██████████| 45/45 [34:08<00:00, 45.51s/it]\n"
     ]
    }
   ],
   "source": [
    "gpt4v_response = {}\n",
    "for test_image in tqdm(test_images_x20):\n",
    "    # encode the query image\n",
    "    test_image_encoded = encode_image(test_dir + test_image)\n",
    "    # test prompt\n",
    "    test_image_prompt = {\n",
    "        \"type\": \"image_url\",\n",
    "        \"image_url\": {\n",
    "            \"url\": f\"data:image/jpeg;base64,{test_image_encoded}\"\n",
    "            }\n",
    "    }\n",
    "    test_image_instruction = {\n",
    "        \"type\": \"text\",\n",
    "        \"text\": instruction\n",
    "    }\n",
    "    request_content = base_request_content + [test_image_prompt, test_image_instruction]\n",
    "    # make request\n",
    "    client = OpenAI(api_key=api_key)\n",
    "    response = client.chat.completions.create(\n",
    "        model=\"gpt-4-vision-preview\",\n",
    "        messages=[\n",
    "            {\n",
    "                \"role\": \"user\",\n",
    "                \"content\": request_content\n",
    "            }\n",
    "        ],\n",
    "        max_tokens=300,\n",
    "        temperature=0.0,\n",
    "    )\n",
    "    # parse response\n",
    "    gpt4v_response[test_image] = {\n",
    "        'response': response,\n",
    "        'answer': parse_response(response)\n",
    "    }"
   ]
  },
  {
   "cell_type": "code",
   "execution_count": 46,
   "metadata": {},
   "outputs": [
    {
     "name": "stdout",
     "output_type": "stream",
     "text": [
      "num_irregular 0\n",
      "num_not_in_categories 0\n",
      "num_more_than_one_categories 0\n"
     ]
    }
   ],
   "source": [
    "formatted, not_in_any = format_predictions(gpt4v_response, categories)"
   ]
  },
  {
   "cell_type": "code",
   "execution_count": 47,
   "metadata": {},
   "outputs": [],
   "source": [
    "# save the answer as a readable json file\n",
    "import json\n",
    "with open('gpt4v_predictions_label_sequence_heightmap_9w5sx20_shuffle.json', 'w') as fp:\n",
    "    json.dump(formatted, fp)"
   ]
  },
  {
   "cell_type": "code",
   "execution_count": null,
   "metadata": {},
   "outputs": [],
   "source": []
  }
 ],
 "metadata": {
  "kernelspec": {
   "display_name": "openai-env",
   "language": "python",
   "name": "python3"
  },
  "language_info": {
   "codemirror_mode": {
    "name": "ipython",
    "version": 3
   },
   "file_extension": ".py",
   "mimetype": "text/x-python",
   "name": "python",
   "nbconvert_exporter": "python",
   "pygments_lexer": "ipython3",
   "version": "3.10.13"
  },
  "orig_nbformat": 4
 },
 "nbformat": 4,
 "nbformat_minor": 2
}
